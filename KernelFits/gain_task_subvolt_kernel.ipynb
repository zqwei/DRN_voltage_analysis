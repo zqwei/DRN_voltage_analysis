{
 "cells": [
  {
   "cell_type": "code",
   "execution_count": 1,
   "metadata": {},
   "outputs": [],
   "source": [
    "from utils import *\n",
    "%matplotlib inline\n",
    "%load_ext autoreload\n",
    "%autoreload 2\n",
    "vol_file = '../Analysis/depreciated/analysis_sections_gain.csv'\n",
    "dat_xls_file = pd.read_csv(vol_file, index_col=0)\n",
    "dat_xls_file['folder'] = dat_xls_file['folder'].apply(lambda x: f'{x:0>8}')\n",
    "dat_xls_file = dat_xls_file.reset_index()\n",
    "t_pre = 100 # time window pre-swim\n",
    "t_post = 350 # time window post-swim\n",
    "t_label = np.arange(-t_pre, t_post)/300\n",
    "t_sig = 240"
   ]
  },
  {
   "cell_type": "code",
   "execution_count": 7,
   "metadata": {},
   "outputs": [],
   "source": [
    "nfish = 1\n",
    "row = dat_xls_file.iloc[nfish]\n",
    "folder = row['folder']\n",
    "fish = row['fish']\n",
    "_ = np.load(f'../Analysis/swim_power/{folder}_{fish}_swim_dat.npz')\n",
    "swim_starts = _['swim_starts']\n",
    "swim_ends = _['swim_ends']\n",
    "r_swim = _['r_swim']\n",
    "l_swim = _['l_swim']\n",
    "visu = _['visu']\n",
    "task_period = _['task_period']\n",
    "swim_task_index = _['swim_task_index']\n",
    "\n",
    "trial_valid = np.ones(len(swim_starts)).astype('bool')\n",
    "for n, n_swim in enumerate(swim_starts[:-1]):        \n",
    "    # examine the swim with short inter-swim-interval\n",
    "    if swim_starts[n+1] - n_swim < t_sig:    \n",
    "        trial_valid[n] = False\n",
    "\n",
    "p_swim = l_swim+r_swim\n",
    "\n",
    "ncell_ = 6\n",
    "_ = np.load(f'../Analysis/swim_voltr/{folder}_{fish}_swim_voltr_dat.npz')\n",
    "# trial_valid = _['trial_valid']\n",
    "sub_swim = _['sub_swim'][ncell_]\n",
    "spk_swim = _['spk_swim'][ncell_]*300\n",
    "spk_list = _['raw_spk_swim'][ncell_]\n",
    "\n",
    "sub_list = sub_swim-sub_swim[:, 70:75].mean(axis=-1, keepdims=True)\n",
    "\n",
    "trial_valid_fit = trial_valid & ((visu[:,:t_pre-10]<=0).sum(axis=-1)==0)"
   ]
  },
  {
   "cell_type": "code",
   "execution_count": 20,
   "metadata": {},
   "outputs": [],
   "source": [
    "Y_dat = []\n",
    "X_dat = []\n",
    "\n",
    "for n_, dff_ in enumerate(sub_list):\n",
    "    if not trial_valid_fit[n_]:\n",
    "        continue\n",
    "    spk_ = spk_list[n_]\n",
    "    swim_ = p_swim[n_]\n",
    "    visu_ = -visu[n_]\n",
    "    visu_[visu_<0]=0\n",
    "    for n_time in range(t_pre, t_pre+240):\n",
    "        spk_history=spk_[n_time-1:n_time]\n",
    "        swim_history=swim_[n_time-30:n_time+30]\n",
    "        visu_pad = 60\n",
    "        if n_time>120:\n",
    "            visu_history=visu_[n_time-visu_pad:n_time]\n",
    "        else:\n",
    "            visu_history=np.zeros(visu_pad)\n",
    "        Y_dat.append(dff_[n_time]-dff_[n_time-30])\n",
    "        X_dat.append(np.r_[-spk_history, -np.sqrt(swim_history)/100, -np.sqrt(visu_history)/100])"
   ]
  },
  {
   "cell_type": "code",
   "execution_count": 21,
   "metadata": {},
   "outputs": [],
   "source": [
    "Y_dat = np.array(Y_dat)\n",
    "X_dat = np.array(X_dat)"
   ]
  },
  {
   "cell_type": "code",
   "execution_count": 22,
   "metadata": {},
   "outputs": [],
   "source": [
    "reg = LinearRegression(fit_intercept=False).fit(X_dat, Y_dat)"
   ]
  },
  {
   "cell_type": "code",
   "execution_count": 23,
   "metadata": {},
   "outputs": [],
   "source": [
    "w = reg.coef_"
   ]
  },
  {
   "cell_type": "code",
   "execution_count": 24,
   "metadata": {},
   "outputs": [],
   "source": [
    "w, rnorm = nnls(X_dat, Y_dat)"
   ]
  },
  {
   "cell_type": "code",
   "execution_count": 25,
   "metadata": {},
   "outputs": [],
   "source": [
    "Y_hat = X_dat.dot(w)"
   ]
  },
  {
   "cell_type": "code",
   "execution_count": 26,
   "metadata": {},
   "outputs": [
    {
     "data": {
      "text/plain": [
       "0.13654203577307422"
      ]
     },
     "execution_count": 26,
     "metadata": {},
     "output_type": "execute_result"
    }
   ],
   "source": [
    "1 - ((Y_dat-Y_hat)**2).sum()/((Y_dat-Y_dat.mean())**2).sum()"
   ]
  },
  {
   "cell_type": "code",
   "execution_count": 27,
   "metadata": {},
   "outputs": [
    {
     "data": {
      "text/plain": [
       "-0.0010646979445037008"
      ]
     },
     "execution_count": 27,
     "metadata": {},
     "output_type": "execute_result"
    }
   ],
   "source": [
    "1 - ((Y_dat-X_dat[:,:2].dot(w[:2]))**2).sum()/((Y_dat-Y_dat.mean())**2).sum()"
   ]
  },
  {
   "cell_type": "code",
   "execution_count": 28,
   "metadata": {},
   "outputs": [
    {
     "data": {
      "text/plain": [
       "0.13466500501414214"
      ]
     },
     "execution_count": 28,
     "metadata": {},
     "output_type": "execute_result"
    }
   ],
   "source": [
    "1 - ((Y_dat-X_dat[:,2:62].dot(w[2:62]))**2).sum()/((Y_dat-Y_dat.mean())**2).sum()"
   ]
  },
  {
   "cell_type": "code",
   "execution_count": 29,
   "metadata": {},
   "outputs": [
    {
     "data": {
      "text/plain": [
       "0.015585679883488357"
      ]
     },
     "execution_count": 29,
     "metadata": {},
     "output_type": "execute_result"
    }
   ],
   "source": [
    "1 - ((Y_dat-X_dat[:,62:].dot(w[62:]))**2).sum()/((Y_dat-Y_dat.mean())**2).sum()"
   ]
  },
  {
   "cell_type": "code",
   "execution_count": 30,
   "metadata": {},
   "outputs": [
    {
     "data": {
      "text/plain": [
       "Text(0.5, 0, 'time (ms)')"
      ]
     },
     "execution_count": 30,
     "metadata": {},
     "output_type": "execute_result"
    },
    {
     "data": {
      "image/png": "[encoded data removed]",
      "text/plain": [
       "<Figure size 432x288 with 1 Axes>"
      ]
     },
     "metadata": {
      "needs_background": "light"
     },
     "output_type": "display_data"
    }
   ],
   "source": [
    "plt.plot(np.arange(-30,30)/300*1000, w[1:61])\n",
    "plt.ylabel('swim kernel')\n",
    "plt.xlabel('time (ms)')"
   ]
  },
  {
   "cell_type": "code",
   "execution_count": 31,
   "metadata": {},
   "outputs": [
    {
     "data": {
      "text/plain": [
       "Text(0.5, 0, 'time (ms)')"
      ]
     },
     "execution_count": 31,
     "metadata": {},
     "output_type": "execute_result"
    },
    {
     "data": {
      "image/png": "[encoded data removed]",
      "text/plain": [
       "<Figure size 432x288 with 1 Axes>"
      ]
     },
     "metadata": {
      "needs_background": "light"
     },
     "output_type": "display_data"
    }
   ],
   "source": [
    "plt.plot(np.arange(-visu_pad,0)/300*1000, w[61:])\n",
    "plt.ylabel('visual kernel')\n",
    "plt.xlabel('time (ms)')"
   ]
  },
  {
   "cell_type": "code",
   "execution_count": null,
   "metadata": {},
   "outputs": [],
   "source": []
  },
  {
   "cell_type": "code",
   "execution_count": null,
   "metadata": {},
   "outputs": [],
   "source": []
  }
 ],
 "metadata": {
  "kernelspec": {
   "display_name": "myenv",
   "language": "python",
   "name": "myenv"
  },
  "language_info": {
   "codemirror_mode": {
    "name": "ipython",
    "version": 3
   },
   "file_extension": ".py",
   "mimetype": "text/x-python",
   "name": "python",
   "nbconvert_exporter": "python",
   "pygments_lexer": "ipython3",
   "version": "3.7.6"
  }
 },
 "nbformat": 4,
 "nbformat_minor": 4
}
