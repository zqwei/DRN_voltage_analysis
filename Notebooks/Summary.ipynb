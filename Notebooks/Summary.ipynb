{
 "cells": [
  {
   "cell_type": "markdown",
   "metadata": {},
   "source": [
    "# DRN neural dynamics"
   ]
  },
  {
   "cell_type": "code",
   "execution_count": 1,
   "metadata": {},
   "outputs": [],
   "source": [
    "import numpy as np\n",
    "import pandas as pd\n",
    "import os\n",
    "import matplotlib.pyplot as plt\n",
    "import seaborn as sns\n",
    "from utils import *\n",
    "from scipy.signal import medfilt\n",
    "from scipy.stats import sem, ranksums\n",
    "%matplotlib inline\n",
    "%load_ext autoreload\n",
    "%autoreload 2"
   ]
  },
  {
   "cell_type": "code",
   "execution_count": 13,
   "metadata": {},
   "outputs": [],
   "source": [
    "vol_file = '../Voltron_data/Voltron_Log_DRN_Exp_update.csv'\n",
    "dat_xls_file = pd.read_csv(vol_file)\n",
    "dat_xls_file['folder'] = dat_xls_file['folder'].apply(lambda x: f'{x:0>8}')"
   ]
  },
  {
   "cell_type": "code",
   "execution_count": 14,
   "metadata": {},
   "outputs": [
    {
     "data": {
      "text/plain": [
       "task\n",
       "Delayed feedback                               3\n",
       "Gain adaptation                               21\n",
       "Gain adaptation (after ablation)              15\n",
       "Gain adaptation (before ablation)             15\n",
       "Raphe memory task                             56\n",
       "Swimonly_Visualonly                           27\n",
       "Swimonly_Visualonly (after GABA ablation)     17\n",
       "Swimonly_Visualonly (before GABA ablation)    17\n",
       "Name: /, dtype: int64"
      ]
     },
     "execution_count": 14,
     "metadata": {},
     "output_type": "execute_result"
    }
   ],
   "source": [
    "dat_xls_file.groupby('task').nunique()[\"/\"]"
   ]
  },
  {
   "cell_type": "code",
   "execution_count": null,
   "metadata": {},
   "outputs": [],
   "source": []
  },
  {
   "cell_type": "markdown",
   "metadata": {},
   "source": [
    "## Voltron imaging\n",
    "\n",
    "## Differentiable information in subthreshold voltage and spikes during swim\n",
    "### Direct results from voltron imaging\n",
    "### Results from GABA imaging\n",
    "\n",
    "## How information converted in two ascepts of neural dynamics\n",
    "\n",
    "## Any computation related to the form of gain adaption and memory\n",
    "\n",
    "## Any computation related to the feedback times"
   ]
  },
  {
   "cell_type": "code",
   "execution_count": null,
   "metadata": {},
   "outputs": [],
   "source": []
  }
 ],
 "metadata": {
  "kernelspec": {
   "display_name": "myenv",
   "language": "python",
   "name": "myenv"
  },
  "language_info": {
   "codemirror_mode": {
    "name": "ipython",
    "version": 3
   },
   "file_extension": ".py",
   "mimetype": "text/x-python",
   "name": "python",
   "nbconvert_exporter": "python",
   "pygments_lexer": "ipython3",
   "version": "3.6.8"
  }
 },
 "nbformat": 4,
 "nbformat_minor": 2
}
