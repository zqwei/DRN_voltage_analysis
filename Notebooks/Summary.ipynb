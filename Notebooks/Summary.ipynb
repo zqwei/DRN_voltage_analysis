{
 "cells": [
  {
   "cell_type": "markdown",
   "metadata": {},
   "source": [
    "# DRN neural dynamics"
   ]
  },
  {
   "cell_type": "markdown",
   "metadata": {},
   "source": [
    "## Voltron imaging\n",
    "\n",
    "## Differentiable information in subthreshold voltage and spikes during swim\n",
    "### Direct results from voltron imaging\n",
    "### Results from GABA imaging\n",
    "\n",
    "## How information converted in two ascepts of neural dynamics\n",
    "\n",
    "## Any computation related to the form of gain adaption and memory\n",
    "\n",
    "## Any computation related to the feedback times"
   ]
  },
  {
   "cell_type": "code",
   "execution_count": null,
   "metadata": {},
   "outputs": [],
   "source": []
  }
 ],
 "metadata": {
  "kernelspec": {
   "display_name": "Python (myenv)",
   "language": "python",
   "name": "myenv"
  },
  "language_info": {
   "codemirror_mode": {
    "name": "ipython",
    "version": 3
   },
   "file_extension": ".py",
   "mimetype": "text/x-python",
   "name": "python",
   "nbconvert_exporter": "python",
   "pygments_lexer": "ipython3",
   "version": "3.6.8"
  }
 },
 "nbformat": 4,
 "nbformat_minor": 2
}
