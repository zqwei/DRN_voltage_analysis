{
 "cells": [
  {
   "cell_type": "markdown",
   "metadata": {},
   "source": [
    "# Quick simple pixel DF/F of GA-RG GABASnFR analysis"
   ]
  },
  {
   "cell_type": "code",
   "execution_count": 1,
   "metadata": {},
   "outputs": [],
   "source": [
    "import numpy as np\n",
    "import pandas as pd\n",
    "import os\n",
    "import matplotlib.pyplot as plt\n",
    "import seaborn as sns\n",
    "from utils import *\n",
    "from scipy.signal import medfilt\n",
    "from scipy.stats import sem, ranksums\n",
    "%matplotlib inline\n",
    "%load_ext autoreload\n",
    "%autoreload 2\n",
    "sns.set(font_scale=2, style='ticks')\n",
    "t_pre = 10 # time window pre-swim\n",
    "t_post = 35 # time window post-swim\n",
    "t_sig = 30 # time used for significance test after swim\n",
    "t_len = t_pre+t_post"
   ]
  },
  {
   "cell_type": "code",
   "execution_count": 2,
   "metadata": {},
   "outputs": [],
   "source": [
    "vol_file = '../Analysis/depreciated/analysis_sections_GA_RG_SnFR.csv'\n",
    "dat_xls_file = pd.read_csv(vol_file)\n",
    "dat_xls_file['folder'] = dat_xls_file['folder'].apply(lambda x: f'{x:0>8}')"
   ]
  },
  {
   "cell_type": "code",
   "execution_count": 3,
   "metadata": {},
   "outputs": [],
   "source": [
    "row = dat_xls_file.iloc[0]"
   ]
  },
  {
   "cell_type": "code",
   "execution_count": 5,
   "metadata": {},
   "outputs": [],
   "source": [
    "folder = row['folder']\n",
    "fish = row['fish']\n",
    "dat_folder = '/nrs/ahrens/Ziqiang/Takashi_DRN_project/SnFRData/'\n",
    "save_folder = dat_folder + f'{folder}/{fish}/Data'"
   ]
  },
  {
   "cell_type": "code",
   "execution_count": null,
   "metadata": {},
   "outputs": [],
   "source": []
  }
 ],
 "metadata": {
  "kernelspec": {
   "display_name": "myenv",
   "language": "python",
   "name": "myenv"
  },
  "language_info": {
   "codemirror_mode": {
    "name": "ipython",
    "version": 3
   },
   "file_extension": ".py",
   "mimetype": "text/x-python",
   "name": "python",
   "nbconvert_exporter": "python",
   "pygments_lexer": "ipython3",
   "version": "3.7.3"
  }
 },
 "nbformat": 4,
 "nbformat_minor": 4
}
