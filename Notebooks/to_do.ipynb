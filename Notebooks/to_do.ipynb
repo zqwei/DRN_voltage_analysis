{
 "cells": [
  {
   "cell_type": "markdown",
   "metadata": {},
   "source": [
    "## Analysis list"
   ]
  },
  {
   "cell_type": "markdown",
   "metadata": {},
   "source": [
    "## Current analysis\n",
    "1. Quantify the statistics of the current analysis\n",
    "2. What more experiments should be planned?"
   ]
  },
  {
   "cell_type": "markdown",
   "metadata": {},
   "source": [
    "## Kernel fit\n",
    "1. Calcium data to motor and visual feedback (what data to use?)\n",
    "2. Subvolt data to motor and visual feedback\n",
    "3. Maybe adding spike data to motor and visual feedback or as a function of subvolt\n",
    "4. iGABASnFR data to motor and visual feedback\n",
    "    * on pixel level\n",
    "    * on component level\n",
    "5. iGluSnFR data to motor and visual feedback\n",
    "    * on pixel level\n",
    "    * on component level"
   ]
  },
  {
   "cell_type": "markdown",
   "metadata": {},
   "source": [
    "## Population analysis using complicated dynamical model with binary or poisson output"
   ]
  },
  {
   "cell_type": "code",
   "execution_count": null,
   "metadata": {},
   "outputs": [],
   "source": []
  }
 ],
 "metadata": {
  "kernelspec": {
   "display_name": "myenv",
   "language": "python",
   "name": "myenv"
  },
  "language_info": {
   "codemirror_mode": {
    "name": "ipython",
    "version": 3
   },
   "file_extension": ".py",
   "mimetype": "text/x-python",
   "name": "python",
   "nbconvert_exporter": "python",
   "pygments_lexer": "ipython3",
   "version": "3.7.3"
  }
 },
 "nbformat": 4,
 "nbformat_minor": 4
}
