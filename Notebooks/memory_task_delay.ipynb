{
 "cells": [
  {
   "cell_type": "code",
   "execution_count": 1,
   "metadata": {},
   "outputs": [],
   "source": [
    "import numpy as np\n",
    "from pathlib import Path\n",
    "import pandas as pd\n",
    "from sys import platform\n",
    "import os\n",
    "import matplotlib.pyplot as plt\n",
    "%matplotlib inline\n",
    "from scipy.stats import sem, wilcoxon\n",
    "from scipy.signal import medfilt"
   ]
  },
  {
   "cell_type": "code",
   "execution_count": 2,
   "metadata": {},
   "outputs": [],
   "source": [
    "def smooth(a, kernel):\n",
    "    b=np.convolve(a,kernel,'same')/np.convolve(np.ones(a.shape),kernel,'same')\n",
    "    return b"
   ]
  },
  {
   "cell_type": "code",
   "execution_count": 3,
   "metadata": {},
   "outputs": [],
   "source": [
    "vol_file = Path('analysis_sections_based_on_swim_pattern.csv')\n",
    "dat_xls_file = pd.read_csv(vol_file, index_col=0)\n",
    "dat_xls_file['folder'] = dat_xls_file['folder'].apply(lambda x: f'{x:0>8}')\n",
    "# using Path to handle switches filesystems\n",
    "if platform == \"linux\" or platform == \"linux2\":\n",
    "    dir_folder = Path('/nrs/ahrens/Ziqiang/Takashi_DRN_project/ProcessedData/')\n",
    "elif platform == 'win32':\n",
    "    dir_folder = Path('U:\\\\Takashi') # put folder for windows system\n",
    "\n",
    "sigma=60;\n",
    "short_kernel=(1/(np.sqrt(2*np.pi)*sigma))*np.exp(-(np.arange(-sigma*3,sigma*3)**2)/(2*sigma**2))"
   ]
  },
  {
   "cell_type": "code",
   "execution_count": 25,
   "metadata": {},
   "outputs": [],
   "source": [
    "def plot_subvolt(row, isplot=True):\n",
    "    folder = row['folder']\n",
    "    fish = row['fish']\n",
    "    \n",
    "    print(f'Processing {folder} {fish}')\n",
    "    if row['task'][0] != 'R':\n",
    "        return None\n",
    "    \n",
    "    dat_dir = dir_folder/f'{folder}/{fish}/Data/'\n",
    "    swim_dir = dir_folder/f'{folder}/{fish}/swim/'\n",
    "    dff = np.load(dat_dir/'Voltr_spikes.npz')['voltrs']\n",
    "    dff = dff - np.median(dff, axis=1, keepdims=True)\n",
    "    spk = np.load(dat_dir/'Voltr_spikes.npz')['spk']\n",
    "    num_cell = spk.shape[0]\n",
    "    spk = np.r_['-1', np.zeros((num_cell, 600)), spk]\n",
    "    frame_stimParams = np.load(swim_dir/'frame_stimParams.npy')\n",
    "    frame_swim_tcourse = np.load(swim_dir/'frame_swim_tcourse.npy')\n",
    "    \n",
    "    subvolt = dff.copy()\n",
    "    smooth_spk = spk.copy()\n",
    "    for n, ndff in enumerate(dff):\n",
    "        subvolt[n, :] = medfilt(ndff, kernel_size=151)\n",
    "        smooth_spk[n, :] = smooth(smooth_spk[n,:], short_kernel)\n",
    "        \n",
    "    delay_starts = frame_stimParams[2,:]==3\n",
    "    delay_starts = np.where(np.diff(delay_starts.astype('int'))==1)[0]\n",
    "    task_type = frame_stimParams[3,:][delay_starts]\n",
    "    num_trial = len(delay_starts)\n",
    "    num_t = 3000\n",
    "\n",
    "    act_delay_sub = np.zeros((num_cell, num_t, num_trial))\n",
    "    act_delay_spk = np.zeros((num_cell, num_t, num_trial))\n",
    "\n",
    "    for n_delay in range(num_trial):\n",
    "        delay_ = delay_starts[n_delay]\n",
    "        act_delay_sub[:, :, n_delay] = subvolt[:, delay_:delay_+num_t] - subvolt[:, delay_-10:delay_+10].mean(axis=-1, keepdims=True)\n",
    "        act_delay_spk[:, :, n_delay] = smooth_spk[:, delay_:delay_+num_t]\n",
    "\n",
    "    rank_cell = np.zeros(num_cell)\n",
    "    for n_cell in range(num_cell):\n",
    "        mean_act_list = []\n",
    "        for n_task_type in range(1, 4):\n",
    "            mean_act_list.append(act_delay_sub[n_cell, :, task_type==n_task_type].mean(axis=0))\n",
    "        _, pval1 = wilcoxon(mean_act_list[0], mean_act_list[1])\n",
    "        _, pval2 = wilcoxon(mean_act_list[1], mean_act_list[2])\n",
    "        sig1 = np.median(mean_act_list[0]-mean_act_list[1])\n",
    "        sig2 = np.median(mean_act_list[1]-mean_act_list[2])        \n",
    "        if np.sign(sig1) == np.sign(sig2) and pval1<0.05 and pval2<0.05:\n",
    "            rank_cell[n_cell] = 1\n",
    "        if isplot:\n",
    "            print([sig1, pval1, sig2, pval2])\n",
    "            fig, ax = plt.subplots(1, 2, figsize=(20, 4))\n",
    "            for n_task_type in range(1,4):\n",
    "                ax[0].plot(np.arange(num_t)/300, act_delay_sub[n_cell, :, task_type==n_task_type].mean(axis=0), label=f'{n_task_type}')\n",
    "                ax[1].plot(np.arange(num_t)/300, act_delay_spk[n_cell, :, task_type==n_task_type].mean(axis=0)*300, label=f'{n_task_type}')\n",
    "                # ax[1].plot(n_task_type, act_delay_spk[n_cell, :, task_type==n_task_type].mean()*300, 'o', label=f'{n_task_type}')\n",
    "\n",
    "            ax[0].set_xlim([0, num_t/300])\n",
    "            ax[0].set_xlabel('Time from delay onset (sec)')\n",
    "            ax[0].set_ylabel('df/f')\n",
    "            ax[1].set_xlim([0, num_t/300])\n",
    "            ax[1].set_xlabel('Time from delay onset (sec)')\n",
    "            ax[1].set_ylabel('Spike rate')\n",
    "            plt.legend()\n",
    "            plt.show()\n",
    "    return rank_cell"
   ]
  },
  {
   "cell_type": "code",
   "execution_count": 26,
   "metadata": {},
   "outputs": [
    {
     "name": "stdout",
     "output_type": "stream",
     "text": [
      "Processing 03152018 Fish1-1\n",
      "Processing 03152018 Fish4-1\n",
      "Processing 03152018 Fish4-2\n",
      "Processing 04052018 Fish4-1\n",
      "Processing 04052018 Fish4-2\n",
      "Processing 04122018 Fish2-1\n",
      "Processing 04122018 Fish2-2\n",
      "Processing 04122018 Fish4-1\n",
      "Processing 04192018 Fish1-1\n",
      "Processing 04192018 Fish1-2\n",
      "Processing 04192018 Fish2-2\n",
      "Processing 07262018 Fish2-1\n",
      "Processing 07262018 Fish2-2\n",
      "Processing 10182018 Fish3-1\n",
      "Processing 11222018 Fish1-1\n",
      "Processing 11222018 Fish1-2\n",
      "Processing 11222018 Fish1-3\n",
      "Processing 11222018 Fish2-1\n",
      "Processing 11222018 Fish2-2\n",
      "Processing 12202018 Fish3-2\n"
     ]
    }
   ],
   "source": [
    "rank_cell_list = []\n",
    "for index, row in dat_xls_file.iterrows():\n",
    "    _ = plot_subvolt(row, isplot=False)\n",
    "    if _ is not None:\n",
    "        rank_cell_list.append(_)"
   ]
  },
  {
   "cell_type": "code",
   "execution_count": 27,
   "metadata": {},
   "outputs": [],
   "source": [
    "rank_cell_list_flat = np.concatenate(rank_cell_list)"
   ]
  },
  {
   "cell_type": "code",
   "execution_count": 30,
   "metadata": {},
   "outputs": [
    {
     "data": {
      "text/plain": [
       "108.0"
      ]
     },
     "execution_count": 30,
     "metadata": {},
     "output_type": "execute_result"
    }
   ],
   "source": [
    "rank_cell_list_flat.sum()"
   ]
  },
  {
   "cell_type": "code",
   "execution_count": 31,
   "metadata": {},
   "outputs": [
    {
     "data": {
      "text/plain": [
       "353"
      ]
     },
     "execution_count": 31,
     "metadata": {},
     "output_type": "execute_result"
    }
   ],
   "source": [
    "len(rank_cell_list_flat)"
   ]
  }
 ],
 "metadata": {
  "kernelspec": {
   "display_name": "Python 3",
   "language": "python",
   "name": "python3"
  },
  "language_info": {
   "codemirror_mode": {
    "name": "ipython",
    "version": 3
   },
   "file_extension": ".py",
   "mimetype": "text/x-python",
   "name": "python",
   "nbconvert_exporter": "python",
   "pygments_lexer": "ipython3",
   "version": "3.6.5"
  }
 },
 "nbformat": 4,
 "nbformat_minor": 2
}
