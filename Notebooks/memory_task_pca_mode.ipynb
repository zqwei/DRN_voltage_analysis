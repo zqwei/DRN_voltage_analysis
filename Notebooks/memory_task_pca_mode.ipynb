{
 "cells": [
  {
   "cell_type": "code",
   "execution_count": 1,
   "metadata": {},
   "outputs": [],
   "source": [
    "import numpy as np\n",
    "from pathlib import Path\n",
    "import pandas as pd\n",
    "from sys import platform\n",
    "import os\n",
    "import matplotlib.pyplot as plt\n",
    "%matplotlib inline\n",
    "%load_ext autoreload\n",
    "%autoreload 2\n",
    "import seaborn as sns\n",
    "sns.set(font_scale=2, style='ticks')\n",
    "from activity_swim_bout import *\n",
    "from utils import cont_mode\n",
    "from sklearn.decomposition import PCA, TruncatedSVD\n",
    "from sklearn.discriminant_analysis import LinearDiscriminantAnalysis as LDA\n",
    "from utils import *"
   ]
  },
  {
   "cell_type": "code",
   "execution_count": 2,
   "metadata": {},
   "outputs": [],
   "source": [
    "vol_file = Path('depreciated/analysis_sections_based_on_swim_pattern.csv')\n",
    "dat_xls_file = pd.read_csv(vol_file, index_col=0)\n",
    "dat_xls_file['folder'] = dat_xls_file['folder'].apply(lambda x: f'{x:0>8}')"
   ]
  },
  {
   "cell_type": "markdown",
   "metadata": {},
   "source": [
    "## Single neuron analysis"
   ]
  },
  {
   "cell_type": "code",
   "execution_count": 3,
   "metadata": {},
   "outputs": [
    {
     "name": "stdout",
     "output_type": "stream",
     "text": [
      "Processing 03152018 Fish1-1\n"
     ]
    }
   ],
   "source": [
    "row = dat_xls_file.iloc[0]\n",
    "folder = row['folder']\n",
    "fish = row['fish']\n",
    "print(f'Processing {folder} {fish}')\n",
    "dat_dir = dir_folder/f'{folder}/{fish}/Data/'\n",
    "swim_dir = dir_folder/f'{folder}/{fish}/swim/'\n",
    "dff = np.load(dat_dir/'Voltr_spikes.npz')['voltrs']\n",
    "dff = dff - np.nanmedian(dff, axis=1, keepdims=True)\n",
    "spk = np.load(dat_dir/'Voltr_spikes.npz')['spk']\n",
    "num_cell = spk.shape[0]\n",
    "spk = np.r_['-1', np.zeros((num_cell, 600)), spk]\n",
    "frame_stimParams = np.load(swim_dir/'frame_stimParams.npy')\n",
    "frame_swim_tcourse = np.load(swim_dir/'frame_swim_tcourse.npy')\n",
    "\n",
    "subvolt = dff.copy()\n",
    "for n, ndff in enumerate(dff):\n",
    "    subvolt[n, :] = medfilt(ndff, kernel_size=51)"
   ]
  },
  {
   "cell_type": "code",
   "execution_count": 4,
   "metadata": {},
   "outputs": [],
   "source": [
    "_ = np.load(f'swim_power/{folder}_{fish}_swim_dat.npz')\n",
    "swim_starts = _['swim_starts']\n",
    "swim_ends = _['swim_ends']\n",
    "r_swim = _['r_swim']\n",
    "l_swim = _['l_swim']\n",
    "visu = _['visu']\n",
    "task_period = _['task_period']\n",
    "swim_task_index = _['swim_task_index']"
   ]
  },
  {
   "cell_type": "code",
   "execution_count": 5,
   "metadata": {},
   "outputs": [],
   "source": [
    "sub_list = np.zeros((r_swim.shape[0], subvolt.shape[0]))\n",
    "remove_list = np.zeros(r_swim.shape[0]).astype('bool')\n",
    "for n, n_swim in enumerate(swim_starts):\n",
    "    try:\n",
    "        sub_list[n, :] = subvolt[:, n_swim+50:n_swim+250].mean(axis=-1)\n",
    "    except:\n",
    "        remove_list[n]=True\n",
    "task_period_ = task_period.copy()\n",
    "task_period_[remove_list] = 0"
   ]
  },
  {
   "cell_type": "code",
   "execution_count": 6,
   "metadata": {},
   "outputs": [
    {
     "data": {
      "text/plain": [
       "LinearDiscriminantAnalysis(n_components=None, priors=None, shrinkage=None,\n",
       "              solver='svd', store_covariance=False, tol=0.0001)"
      ]
     },
     "execution_count": 6,
     "metadata": {},
     "output_type": "execute_result"
    }
   ],
   "source": [
    "sub_list_ = np.array(sub_list)\n",
    "lda = LDA()\n",
    "lda.fit(sub_list_[task_period_<3, :], task_period_[task_period_<3])\n",
    "# sub_pc = svd.transform(subvolt.T)\n",
    "# plt.plot(sub_list_.mean(axis=-1), task_period_, '.')"
   ]
  },
  {
   "cell_type": "code",
   "execution_count": 7,
   "metadata": {},
   "outputs": [
    {
     "data": {
      "text/plain": [
       "0.588957055214724"
      ]
     },
     "execution_count": 7,
     "metadata": {},
     "output_type": "execute_result"
    }
   ],
   "source": [
    "lda.score(sub_list_[task_period_<3, :], task_period_[task_period_<3])"
   ]
  },
  {
   "cell_type": "markdown",
   "metadata": {},
   "source": [
    "## See if the high gain and low gain can be decoded using LDA coder"
   ]
  },
  {
   "cell_type": "code",
   "execution_count": 17,
   "metadata": {},
   "outputs": [
    {
     "name": "stdout",
     "output_type": "stream",
     "text": [
      "0.8404907975460123\n"
     ]
    }
   ],
   "source": [
    "spk_list = np.zeros((r_swim.shape[0], spk.shape[0]))\n",
    "remove_list = np.zeros(r_swim.shape[0]).astype('bool')\n",
    "for n, n_swim in enumerate(swim_starts):\n",
    "    try:\n",
    "        spk_list[n, :] = spk[:, n_swim+0:n_swim+250].mean(axis=-1)*300\n",
    "    except:\n",
    "        remove_list[n]=True\n",
    "task_period_ = task_period.copy()\n",
    "task_period_[remove_list] = 0\n",
    "spk_list_ = np.array(spk_list)\n",
    "lda = LDA()\n",
    "lda.fit(spk_list_[task_period_<3, :], task_period_[task_period_<3])\n",
    "print(lda.score(spk_list_[task_period_<3, :], task_period_[task_period_<3]))\n",
    "coef_ = lda.coef_"
   ]
  },
  {
   "cell_type": "code",
   "execution_count": 32,
   "metadata": {},
   "outputs": [
    {
     "name": "stdout",
     "output_type": "stream",
     "text": [
      "0.8110599078341014\n"
     ]
    }
   ],
   "source": [
    "spk_list_pre = np.zeros((r_swim.shape[0], spk.shape[0]))\n",
    "remove_list_pre = np.zeros(r_swim.shape[0]).astype('bool')\n",
    "for n, n_swim in enumerate(swim_starts):\n",
    "    try:\n",
    "        spk_list_pre[n, :] = spk[:, n_swim-250:n_swim].mean(axis=-1)*300\n",
    "    except:\n",
    "        remove_list_pre[n]=True\n",
    "    if np.isnan(spk_list_pre[n, :]).sum()>0:\n",
    "        remove_list_pre[n]=True\n",
    "task_period_ = task_period.copy()\n",
    "task_period_[remove_list_pre] = np.inf\n",
    "print(lda.score(spk_list_pre[task_period_<3, :], task_period_[task_period_<3]))\n",
    "coef_ = lda.coef_"
   ]
  },
  {
   "cell_type": "code",
   "execution_count": 33,
   "metadata": {},
   "outputs": [],
   "source": [
    "pred_ = spk_list_pre.dot(coef_.T)"
   ]
  },
  {
   "cell_type": "code",
   "execution_count": 35,
   "metadata": {},
   "outputs": [
    {
     "data": {
      "text/plain": [
       "[<matplotlib.lines.Line2D at 0x2b17ba4207f0>]"
      ]
     },
     "execution_count": 35,
     "metadata": {},
     "output_type": "execute_result"
    },
    {
     "data": {
      "image/png": "[encoded data removed]",
      "text/plain": [
       "<Figure size 432x288 with 1 Axes>"
      ]
     },
     "metadata": {
      "needs_background": "light"
     },
     "output_type": "display_data"
    }
   ],
   "source": [
    "plt.plot(pred_, task_period_, '.')"
   ]
  },
  {
   "cell_type": "code",
   "execution_count": 36,
   "metadata": {},
   "outputs": [],
   "source": [
    "from scipy.signal import find_peaks\n",
    "num_burst = np.zeros(r_swim.shape[0])\n",
    "int_burst = np.zeros(r_swim.shape[0])\n",
    "max_burst = np.zeros(r_swim.shape[0])\n",
    "ave_burst = np.zeros(r_swim.shape[0])\n",
    "fir_burst = np.zeros(r_swim.shape[0])\n",
    "\n",
    "for n_burst in range(r_swim.shape[0]):\n",
    "    rswim = r_swim[n_burst, 50:200]\n",
    "    lswim = l_swim[n_burst, 50:200]\n",
    "    swim_ = np.sqrt(rswim**2+lswim**2)\n",
    "    peaks_ = find_peaks(swim_, prominence=0.5)[0] \n",
    "    if len(peaks_) >1:\n",
    "        num_burst[n_burst] = len(peaks_)/2\n",
    "        int_burst[n_burst] = np.nanmean(np.diff(peaks_))\n",
    "        max_burst[n_burst] = swim_.max()\n",
    "        ave_burst[n_burst] = swim_[peaks_].mean()\n",
    "        fir_burst[n_burst] = peaks_[0]\n",
    "    \n",
    "burst_list = [num_burst, int_burst, max_burst, ave_burst, fir_burst]\n",
    "burst_list = np.asarray(burst_list)"
   ]
  },
  {
   "cell_type": "code",
   "execution_count": 45,
   "metadata": {},
   "outputs": [],
   "source": [
    "n_task = task_period.max().astype('int')\n",
    "swim_task_index_ = (swim_task_index-1)%n_task+1\n",
    "swim_bout_index_task = np.zeros(len(swim_task_index_)).astype('int')\n",
    "swim_bout_index_task[0] = 1\n",
    "for n_bout in range(len(swim_task_index_)-1):\n",
    "    if swim_task_index_[n_bout] == swim_task_index_[n_bout-1]:\n",
    "        swim_bout_index_task[n_bout] = swim_bout_index_task[n_bout-1]+1\n",
    "    else:\n",
    "        swim_bout_index_task[n_bout] = 1"
   ]
  },
  {
   "cell_type": "code",
   "execution_count": 54,
   "metadata": {},
   "outputs": [],
   "source": [
    "k_ = boxcarKernel(600)\n",
    "spk_smooth = spk.copy()\n",
    "for ncell in range(spk_smooth.shape[0]):\n",
    "    spk_smooth[ncell] = smooth(spk[ncell], k_)*300\n",
    "pop_act = spk_smooth.T.dot(coef_.T)\n",
    "pop_act = pop_act.ravel()"
   ]
  },
  {
   "cell_type": "code",
   "execution_count": 93,
   "metadata": {},
   "outputs": [
    {
     "name": "stdout",
     "output_type": "stream",
     "text": [
      "[-0.48336326315345896, 0.11138981647538271]\n"
     ]
    },
    {
     "data": {
      "text/plain": [
       "Text(0.5,0,'Neural dynamics in late delay')"
      ]
     },
     "execution_count": 93,
     "metadata": {},
     "output_type": "execute_result"
    },
    {
     "data": {
      "image/png": "[encoded data removed]",
      "text/plain": [
       "<Figure size 432x288 with 1 Axes>"
      ]
     },
     "metadata": {
      "needs_background": "light"
     },
     "output_type": "display_data"
    }
   ],
   "source": [
    "from scipy.stats import spearmanr\n",
    "test_on_ = np.where((frame_stimParams[2][:-1]==3) & (frame_stimParams[2][1:]==4))[0]\n",
    "first_swim_on = swim_starts[swim_ind] - test_on_\n",
    "win_ = [-600, 0]\n",
    "pred_swim_on = np.zeros(len(test_on_))\n",
    "for n, n_on in enumerate(test_on_):\n",
    "    pred_swim_on[n] = pop_act[n_on+win_[0]:n_on+win_[1]].mean()\n",
    "plt.scatter(pred_swim_on, first_swim_on/300, c=np.arange(12)%3, cmap=plt.cm.Dark2)\n",
    "corr_, p = spearmanr(pred_swim_on, first_swim_on)\n",
    "print([corr_, p])\n",
    "plt.ylabel('Swim onset time')\n",
    "plt.xlabel('Neural dynamics in late delay')"
   ]
  },
  {
   "cell_type": "code",
   "execution_count": 52,
   "metadata": {},
   "outputs": [
    {
     "data": {
      "text/plain": [
       "array([ 45, 694, 388, 388,  41, 324, 565, 305, 367, 228,  82, 500])"
      ]
     },
     "execution_count": 52,
     "metadata": {},
     "output_type": "execute_result"
    }
   ],
   "source": [
    "swim_starts[swim_ind] - np.where((frame_stimParams[2][:-1]==3) & (frame_stimParams[2][1:]==4))[0]"
   ]
  },
  {
   "cell_type": "code",
   "execution_count": 72,
   "metadata": {},
   "outputs": [],
   "source": [
    "lda_ = LDA(n_components=4)\n",
    "lda_.fit((burst_list.T)[task_period<3], task_period[task_period<3])\n",
    "burst_pca = burst_list.T.dot(lda_.coef_.T)\n",
    "burst_pca = burst_pca - np.mean(burst_pca)"
   ]
  },
  {
   "cell_type": "code",
   "execution_count": 92,
   "metadata": {},
   "outputs": [
    {
     "data": {
      "image/png": "[encoded data removed]",
      "text/plain": [
       "<Figure size 432x288 with 2 Axes>"
      ]
     },
     "metadata": {
      "needs_background": "light"
     },
     "output_type": "display_data"
    }
   ],
   "source": [
    "swim_on_ind = (swim_bout_index_task== 1) & (task_period_==4)\n",
    "# plt.scatter(pred_[swim_on_ind].ravel(), burst_pca[swim_on_ind], c=np.arange(12)%3, cmap=plt.cm.nipy_spectral)\n",
    "plt.scatter(pred_[swim_on_ind].ravel(), burst_list[4][swim_on_ind], c=np.arange(12)%3, cmap=plt.cm.Dark2)\n",
    "plt.colorbar()\n",
    "plt.show()"
   ]
  },
  {
   "cell_type": "code",
   "execution_count": 99,
   "metadata": {},
   "outputs": [
    {
     "data": {
      "image/png": "[encoded data removed]",
      "text/plain": [
       "<Figure size 432x288 with 1 Axes>"
      ]
     },
     "metadata": {
      "needs_background": "light"
     },
     "output_type": "display_data"
    }
   ],
   "source": [
    "swim_on_ind = (swim_bout_index_task== 1) & (task_period_==4)\n",
    "# plt.scatter(pred_[swim_on_ind].ravel(), burst_pca[swim_on_ind], c=np.arange(12)%3, cmap=plt.cm.nipy_spectral)\n",
    "# plt.scatter(pred_[swim_on_ind].ravel(), burst_list[4][swim_on_ind], c=np.arange(12)%3, cmap=plt.cm.Dark2)\n",
    "# plt.scatter(pred_.ravel(), burst_list[4])\n",
    "plt.scatter(pred_.ravel(), burst_pca)\n",
    "# plt.colorbar()\n",
    "plt.show()"
   ]
  },
  {
   "cell_type": "markdown",
   "metadata": {},
   "source": [
    "### Correlate neural dynamics with behavioral mode"
   ]
  },
  {
   "cell_type": "code",
   "execution_count": 116,
   "metadata": {},
   "outputs": [
    {
     "data": {
      "text/plain": [
       "0.05249463094129569"
      ]
     },
     "execution_count": 116,
     "metadata": {},
     "output_type": "execute_result"
    }
   ],
   "source": [
    "from sklearn.linear_model import LinearRegression\n",
    "reg = LinearRegression().fit(spk_list_[~remove_list_pre], burst_pca[~remove_list_pre])\n",
    "reg.score(spk_list_pre[~remove_list_pre], burst_pca[~remove_list_pre])"
   ]
  },
  {
   "cell_type": "code",
   "execution_count": 117,
   "metadata": {},
   "outputs": [
    {
     "data": {
      "text/plain": [
       "array([[-0.02780899,  0.07991873, -0.09299996,  0.05267349,  0.06070998,\n",
       "         0.01081671,  0.00945477, -0.01841522,  0.26937827, -0.00979928,\n",
       "         0.12906354,  0.13601119,  0.02969273,  0.08961047, -0.32756063,\n",
       "        -0.03664474, -0.09821763, -0.06932792, -0.02755687, -0.11803576,\n",
       "         0.12802938,  0.20073112,  0.01793622,  0.11403324, -0.09963019]])"
      ]
     },
     "execution_count": 117,
     "metadata": {},
     "output_type": "execute_result"
    }
   ],
   "source": [
    "reg.coef_"
   ]
  },
  {
   "cell_type": "markdown",
   "metadata": {},
   "source": [
    "## check if the fish has a memory"
   ]
  },
  {
   "cell_type": "code",
   "execution_count": 94,
   "metadata": {},
   "outputs": [
    {
     "data": {
      "text/plain": [
       "(4, 3)"
      ]
     },
     "execution_count": 94,
     "metadata": {},
     "output_type": "execute_result"
    }
   ],
   "source": [
    "burst_list[3][swim_on_ind].reshape(-1, 3).shape"
   ]
  },
  {
   "cell_type": "code",
   "execution_count": 111,
   "metadata": {},
   "outputs": [
    {
     "data": {
      "text/plain": [
       "[<matplotlib.lines.Line2D at 0x2b17b8b645f8>]"
      ]
     },
     "execution_count": 111,
     "metadata": {},
     "output_type": "execute_result"
    },
    {
     "data": {
      "image/png": "[encoded data removed]",
      "text/plain": [
       "<Figure size 432x288 with 1 Axes>"
      ]
     },
     "metadata": {
      "needs_background": "light"
     },
     "output_type": "display_data"
    }
   ],
   "source": [
    "plt.plot(task_period_, burst_pca, '.')"
   ]
  }
 ],
 "metadata": {
  "kernelspec": {
   "display_name": "Python (myenv)",
   "language": "python",
   "name": "myenv"
  },
  "language_info": {
   "codemirror_mode": {
    "name": "ipython",
    "version": 3
   },
   "file_extension": ".py",
   "mimetype": "text/x-python",
   "name": "python",
   "nbconvert_exporter": "python",
   "pygments_lexer": "ipython3",
   "version": "3.6.8"
  }
 },
 "nbformat": 4,
 "nbformat_minor": 2
}
