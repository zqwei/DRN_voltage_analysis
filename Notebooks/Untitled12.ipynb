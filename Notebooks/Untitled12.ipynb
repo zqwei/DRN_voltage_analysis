{
 "cells": [
  {
   "cell_type": "code",
   "execution_count": 20,
   "id": "2d837b6f-2f6d-4197-96df-f0146a345860",
   "metadata": {},
   "outputs": [
    {
     "name": "stdout",
     "output_type": "stream",
     "text": [
      "Collect data\n",
      "number of cells 32\n",
      "number of fish 8\n"
     ]
    }
   ],
   "source": [
    "from utils import *\n",
    "\n",
    "vol_file = '../Analysis/depreciated/analysis_sections_gain.csv'\n",
    "dat_xls_file = pd.read_csv(vol_file, index_col=0)\n",
    "dat_xls_file['folder'] = dat_xls_file['folder'].apply(lambda x: f'{x:0>8}')\n",
    "dat_xls_file = dat_xls_file.reset_index()\n",
    "t_pre = 100 # time window pre-swim\n",
    "t_post = 350 # time window post-swim\n",
    "t_label = np.arange(-t_pre, t_post)/300\n",
    "t_sig = 240\n",
    "\n",
    "k_ = gaussKernel(sigma=5)\n",
    "k_sub = gaussKernel(sigma=5)\n",
    "ave_low_list = []\n",
    "ave_high_list = []\n",
    "p_mat = []\n",
    "fish_id = []\n",
    "pre_swim_act = []\n",
    "swim_type = []\n",
    "swim_type_max = []\n",
    "\n",
    "print('Collect data')\n",
    "for ind, row in dat_xls_file.iterrows():    \n",
    "    folder = row['folder']\n",
    "    fish = row['fish']\n",
    "    task_type = row['task']    \n",
    "    _ = np.load(f'../Analysis/swim_power/{folder}_{fish}_swim_dat.npz')\n",
    "    task_period = _['task_period'] \n",
    "    swim_starts = _['swim_starts'] \n",
    "    trial_valid = np.ones(len(swim_starts)).astype('bool')\n",
    "    for n, n_swim in enumerate(swim_starts[:-1]):        \n",
    "        # examine the swim with short inter-swim-interval\n",
    "        if swim_starts[n+1] - n_swim < t_sig:    \n",
    "            trial_valid[n] = False\n",
    "    \n",
    "    _ = np.load(f'../Analysis/swim_voltr/{folder}_{fish}_swim_voltr_dat.npz')\n",
    "    spk_swim = _['spk_swim']\n",
    "    \n",
    "    for n_cell in range(spk_swim.shape[0]):        \n",
    "        spk_list = spk_swim[n_cell]\n",
    "        tmp = []\n",
    "        for n_spk in spk_list:\n",
    "            tmp.append(smooth(n_spk, k_))\n",
    "        spk_list = np.array(tmp)\n",
    "        non_trial = np.isnan(spk_list).sum(axis=-1)==0\n",
    "        trial_valid = trial_valid & non_trial\n",
    "        gain_stat = np.zeros(t_pre+t_post)\n",
    "        for ntime in range(-t_pre, t_post):\n",
    "            val, pval= ranksums(spk_list[(task_period==1) & trial_valid, t_pre+ntime], \n",
    "                                spk_list[(task_period==2) & trial_valid, t_pre+ntime])\n",
    "            gain_stat[t_pre+ntime] = np.sign(-val) * pval\n",
    "        p_mat.append(gain_stat)\n",
    "        ave_low_list.append(spk_list[(task_period==1) & trial_valid].mean(axis=0)*300)\n",
    "        ave_high_list.append(spk_list[(task_period==2) & trial_valid].mean(axis=0)*300)\n",
    "        pre_swim_act.append(spk_list[:, :t_pre-30].mean(axis=1))\n",
    "        swim_type.append(task_period)\n",
    "        fish_id.append(folder+fish[:5])\n",
    "        swim_type_max.append(task_period.max())\n",
    "\n",
    "ave_low_list = np.array(ave_low_list)\n",
    "ave_high_list = np.array(ave_high_list)\n",
    "swim_type_max = np.array(swim_type_max)"
   ]
  },
  {
   "cell_type": "code",
   "execution_count": 61,
   "id": "d75cbbf5-d480-454f-981d-a0314405e99f",
   "metadata": {},
   "outputs": [],
   "source": [
    "from glob import glob"
   ]
  },
  {
   "cell_type": "code",
   "execution_count": 68,
   "id": "bc4e8ba1-5ee8-4607-92c2-a87b3bafd118",
   "metadata": {},
   "outputs": [],
   "source": [
    "selected_fish = np.unique(np.array(fish_id)[sel_ind])\n",
    "\n",
    "swim_bout_len = []\n",
    "for n_fish in selected_fish:\n",
    "    folder = n_fish[:8]\n",
    "    fish = n_fish[8:]\n",
    "    file_ = glob(f'../Analysis/swim_power/{folder}_{fish}*before_swim_dat.npz')[0]\n",
    "    _ = np.load(file_, allow_pickle=True)\n",
    "    swim_starts = _['swim_starts']\n",
    "    swim_ends = _['swim_ends']\n",
    "    swim_bout_len.append(np.diff(swim_starts).mean()/300)"
   ]
  },
  {
   "cell_type": "code",
   "execution_count": 70,
   "id": "9ca8266f-7b30-49ae-9a80-442ee0d7e943",
   "metadata": {},
   "outputs": [
    {
     "data": {
      "text/plain": [
       "15.17090133276123"
      ]
     },
     "execution_count": 70,
     "metadata": {},
     "output_type": "execute_result"
    }
   ],
   "source": [
    "np.mean(swim_bout_len)*10"
   ]
  },
  {
   "cell_type": "code",
   "execution_count": 71,
   "id": "3ccf44cf-a149-4a23-acec-451978dd2ae3",
   "metadata": {},
   "outputs": [
    {
     "data": {
      "text/plain": [
       "4.858911950579269"
      ]
     },
     "execution_count": 71,
     "metadata": {},
     "output_type": "execute_result"
    }
   ],
   "source": [
    "np.std(swim_bout_len)*10"
   ]
  },
  {
   "cell_type": "code",
   "execution_count": 38,
   "id": "c2da36b1-42fc-4819-b9d3-10977bb63a02",
   "metadata": {},
   "outputs": [
    {
     "name": "stdout",
     "output_type": "stream",
     "text": [
      "number of cells 36\n",
      "number of fish 8\n"
     ]
    }
   ],
   "source": [
    "sig_mat = np.abs(p_mat)[:, t_pre-30:(t_pre+300)]<0.05\n",
    "sel_ind = (sig_mat.sum(axis=-1)>5) & (swim_type_max<3) & (ave_low_list[:, (t_pre+100):(t_pre+300)].sum(axis=1)<ave_high_list[:, (t_pre+100):(t_pre+300)].sum(axis=1))\n",
    "print(f'number of cells {sel_ind.sum()}')\n",
    "print(f'number of fish {len(np.unique(np.array(fish_id)[sel_ind]))}')\n",
    "\n",
    "lh_pre = []\n",
    "hl_pre = []\n",
    "\n",
    "for n_cell in np.where(sel_ind)[0]:\n",
    "    act_ = pre_swim_act[n_cell]\n",
    "    n_swims = swim_type[n_cell]\n",
    "    epoch_start = np.r_[0, np.diff(n_swims)]\n",
    "    epoch_start_lh = np.where(epoch_start==-1)[0]\n",
    "    epoch_start_lh = epoch_start_lh[:-1]\n",
    "    lh_trial = np.zeros((len(epoch_start_lh), 10))\n",
    "    for n in range(10):\n",
    "        lh_trial[:, n-3] = act_[epoch_start_lh+n-3]\n",
    "    \n",
    "    epoch_start_hl = np.where(epoch_start==1)[0]\n",
    "    epoch_start_hl = epoch_start_hl[:-1]\n",
    "    hl_trial = np.zeros((len(epoch_start_hl), 10))\n",
    "    for n in range(10):\n",
    "        hl_trial[:, n-3] = act_[epoch_start_hl+n-3]\n",
    "\n",
    "    # print(n_cell)\n",
    "    lh_pre.append(lh_trial.mean(axis=0))\n",
    "    hl_pre.append(hl_trial.mean(axis=0))\n",
    "lh_pre = np.array(lh_pre)\n",
    "hl_pre = np.array(hl_pre)"
   ]
  },
  {
   "cell_type": "code",
   "execution_count": 50,
   "id": "41728319-516c-408b-ba09-068e35668051",
   "metadata": {},
   "outputs": [
    {
     "data": {
      "image/png": "[encoded data removed]",
      "text/plain": [
       "<Figure size 640x480 with 1 Axes>"
      ]
     },
     "metadata": {},
     "output_type": "display_data"
    }
   ],
   "source": [
    "ave_ = lh_pre.mean(axis=0)\n",
    "std_ = lh_pre.std(axis=0)/6\n",
    "# order_ = np.argsort(ave_)\n",
    "order_ = np.arange(10)\n",
    "\n",
    "plt.errorbar(np.arange(-3, 7), ave_[order_], std_[order_], color='red', ls='none', marker='o')\n",
    "\n",
    "ave_ = hl_pre.mean(axis=0)\n",
    "std_ = hl_pre.std(axis=0)/6\n",
    "# order_ = np.argsort(-ave_)\n",
    "order_ = np.arange(10)\n",
    "\n",
    "plt.errorbar(np.arange(-3, 7), ave_[order_], std_[order_], color='b', ls='none', marker='o')\n",
    "\n",
    "sns.despine()\n",
    "plt.ylim([0, 1.2])\n",
    "plt.savefig('pre_swim_rate.pdf')"
   ]
  },
  {
   "cell_type": "code",
   "execution_count": null,
   "id": "b1cb2ac1-e728-43a0-96f0-f713df3511cb",
   "metadata": {},
   "outputs": [],
   "source": []
  }
 ],
 "metadata": {
  "kernelspec": {
   "display_name": "myenv",
   "language": "python",
   "name": "myenv"
  },
  "language_info": {
   "codemirror_mode": {
    "name": "ipython",
    "version": 3
   },
   "file_extension": ".py",
   "mimetype": "text/x-python",
   "name": "python",
   "nbconvert_exporter": "python",
   "pygments_lexer": "ipython3",
   "version": "3.12.8"
  }
 },
 "nbformat": 4,
 "nbformat_minor": 5
}
