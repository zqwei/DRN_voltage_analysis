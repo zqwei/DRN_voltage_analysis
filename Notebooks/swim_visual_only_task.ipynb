{
 "cells": [
  {
   "cell_type": "code",
   "execution_count": null,
   "metadata": {},
   "outputs": [],
   "source": [
    "import numpy as np\n",
    "import pandas as pd\n",
    "import os\n",
    "import matplotlib.pyplot as plt\n",
    "import seaborn as sns\n",
    "from utils import *\n",
    "from scipy.signal import medfilt\n",
    "from scipy.stats import sem, ranksums\n",
    "sns.set(font_scale=2, style='ticks')\n",
    "%matplotlib inline\n",
    "%load_ext autoreload\n",
    "%autoreload 2"
   ]
  },
  {
   "cell_type": "code",
   "execution_count": null,
   "metadata": {},
   "outputs": [],
   "source": [
    "vol_file = '../Voltron_data/Voltron_Log_DRN_Exp.csv'\n",
    "dat_xls_file = pd.read_csv(vol_file)\n",
    "dat_xls_file['folder'] = dat_xls_file['folder'].apply(lambda x: f'{x:0>8}')"
   ]
  },
  {
   "cell_type": "markdown",
   "metadata": {},
   "source": [
    "## Task files"
   ]
  },
  {
   "cell_type": "code",
   "execution_count": null,
   "metadata": {},
   "outputs": [],
   "source": [
    "for ind, row in dat_xls_file.iterrows():\n",
    "    if 'Swimonly' in row['task']:\n",
    "        print([row['fish'], row['task']])"
   ]
  },
  {
   "cell_type": "markdown",
   "metadata": {},
   "source": [
    "## Task structure\n",
    "### rawdata\n",
    "* stimParam1 : velocity\n",
    "* stimParam2 : gain\n",
    "* stimParam3 : task period -- 1, swim-only; 2, visual-only\n",
    "* stimParam4 : 1, CL; 2, OL, swim-only; 3, replay, visual-only; 0, visual-only, no replay\n",
    "* stimParam5 : epoch index"
   ]
  },
  {
   "cell_type": "code",
   "execution_count": null,
   "metadata": {},
   "outputs": [],
   "source": [
    "# dat_folder = '/nrs/ahrens/Ziqiang/Takashi_DRN_project/ProcessedData/'\n",
    "# folder = row['folder']\n",
    "# fish = row['fish']\n",
    "# swm_dir = dat_folder+f'{folder}/{fish}/swim/'\n",
    "\n",
    "# rawdata = np.load(swm_dir+\"rawdata.npy\", allow_pickle=True)[()]\n",
    "# swimdata = np.load(swm_dir+\"swimdata.npy\", allow_pickle=True)[()]\n",
    "# t_len = len(rawdata['ch1'])\n",
    "\n",
    "# plt.figure(figsize=(20, 3))\n",
    "# plt.plot(np.arange(t_len)/6000, rawdata['stimParam1']*10000, label='visual')\n",
    "# # plt.plot(np.arange(t_len)/6000, np.sqrt(rawdata['ch1']**2+rawdata['ch2']**2)*30, label='motor')\n",
    "# plt.plot(np.arange(t_len)/6000, rawdata['ch1']*30, label='motor')\n",
    "# plt.plot(np.arange(t_len)/6000, rawdata['stimParam4'], label='task type')\n",
    "# plt.xlim([0, 400])\n",
    "# plt.show()"
   ]
  },
  {
   "cell_type": "markdown",
   "metadata": {},
   "source": [
    "## Behavioral data"
   ]
  },
  {
   "cell_type": "code",
   "execution_count": null,
   "metadata": {},
   "outputs": [],
   "source": [
    "vol_file = '../Analysis/depreciated/analysis_sections_based_on_swim_pattern_sovo.csv'\n",
    "dat_xls_file = pd.read_csv(vol_file)\n",
    "dat_xls_file['folder'] = dat_xls_file['folder'].apply(lambda x: f'{x:0>8}')"
   ]
  },
  {
   "cell_type": "code",
   "execution_count": null,
   "metadata": {},
   "outputs": [],
   "source": [
    "t_pre = 100 # time window pre-swim\n",
    "t_post = 350 # time window post-swim\n",
    "t_label = np.arange(-t_pre, t_post)/300\n",
    "c_list = ['k', 'r', 'b']\n",
    "labels = ['CL', 'Swim-only', 'Visual-only']\n",
    "swim_power_thres = 10\n",
    "t_swim_CL = t_pre + 100\n",
    "\n",
    "for ind, row in dat_xls_file.iterrows():\n",
    "    folder = row['folder']\n",
    "    fish = row['fish']\n",
    "    task_type = row['task']\n",
    "    \n",
    "#     if not os.path.exists(f'../Analysis/swim_voltr/{folder}_{fish}_swim_voltr_dat.npz'):\n",
    "#         continue\n",
    "    \n",
    "    _ = np.load(f'../Analysis/swim_power/{folder}_{fish}_swim_dat.npz')\n",
    "    r_swim = _['r_swim']\n",
    "    l_swim = _['l_swim']\n",
    "    task_period = _['swim_task_index'].astype('int')\n",
    "    visu = _['visu']\n",
    "    p_swim = np.sqrt(r_swim**2 + l_swim**2)\n",
    "    trial_valid_CL = (p_swim[:, t_swim_CL:t_swim_CL+150]>0).sum(axis=-1)==0\n",
    "    trial_valid_OL = ((visu.max(axis=-1, keepdims=True)-visu)[:, :-50]>0).sum(axis=-1)==0\n",
    "    trial_valid_VL = (p_swim[:, t_pre:t_pre+300]>0).sum(axis=-1)==0\n",
    "    \n",
    "    task_period = _['swim_task_index'].astype('int')            \n",
    "    _ = np.load(f'../Analysis/swim_voltr/{folder}_{fish}_swim_voltr_dat.npz')\n",
    "    trial_valid = _['trial_valid']\n",
    "    \n",
    "    if np.percentile(p_swim[(task_period==1) & trial_valid].mean(axis=0), 95)>swim_power_thres:\n",
    "        continue\n",
    "\n",
    "    fig, ax = plt.subplots(1, 2, figsize=(10, 3))\n",
    "    ax = ax.flatten()\n",
    "    \n",
    "    for n in range(3):\n",
    "        if n==0:\n",
    "            trial_valid_ = trial_valid & trial_valid_CL\n",
    "        if n==1:\n",
    "            trial_valid_ = trial_valid & trial_valid_OL  #& trial_valid_CL\n",
    "        if n==2:\n",
    "            trial_valid_ = trial_valid & trial_valid_VL\n",
    "        ax[0].plot(t_label, p_swim[(task_period==n+1) & trial_valid_].mean(axis=0), c_list[n])\n",
    "        ax[1].plot(t_label, visu[(task_period==n+1) & trial_valid_].mean(axis=0), c_list[n])\n",
    "        \n",
    "    ax[0].set_xlabel('Time (sec)')\n",
    "    ax[0].set_ylabel('Swim power')\n",
    "    ax[1].set_xlabel('Time (sec)')\n",
    "    ax[1].set_ylabel('Visual')\n",
    "    sns.despine()\n",
    "    plt.show()"
   ]
  },
  {
   "cell_type": "markdown",
   "metadata": {},
   "source": [
    "## Subthreshold activity\n",
    "\n",
    "### Single cells"
   ]
  },
  {
   "cell_type": "code",
   "execution_count": null,
   "metadata": {},
   "outputs": [],
   "source": [
    "from scipy.stats import sem"
   ]
  },
  {
   "cell_type": "code",
   "execution_count": null,
   "metadata": {},
   "outputs": [],
   "source": [
    "k_ = gaussKernel(sigma=3)\n",
    "# k_ = boxcarKernel(sigma=5)"
   ]
  },
  {
   "cell_type": "code",
   "execution_count": null,
   "metadata": {},
   "outputs": [],
   "source": [
    "t_pre = 100 # time window pre-swim\n",
    "t_post = 350 # time window post-swim\n",
    "swim_power_thres = 10\n",
    "t_label = np.arange(-t_pre, t_post)/300\n",
    "c_list = ['k', 'r', 'b']\n",
    "labels = ['CL', 'Swim-only', 'Visual-only']\n",
    "sub_ave = []\n",
    "spk_ave = []\n",
    "is_plot = False\n",
    "\n",
    "for ind, row in dat_xls_file.iterrows():\n",
    "    folder = row['folder']\n",
    "    fish = row['fish']\n",
    "    task_type = row['task']\n",
    "    \n",
    "#     if not os.path.exists(f'../Analysis/swim_voltr/{folder}_{fish}_swim_voltr_dat.npz'):\n",
    "#         continue    \n",
    "    \n",
    "    _ = np.load(f'../Analysis/swim_power/{folder}_{fish}_swim_dat.npz')\n",
    "    task_period = _['swim_task_index'].astype('int')            \n",
    "    _ = np.load(f'../Analysis/swim_voltr/{folder}_{fish}_swim_voltr_dat.npz')\n",
    "    sub_swim = _['sub_swim']\n",
    "    spk_swim = _['spk_swim']\n",
    "    trial_valid = _['trial_valid']\n",
    "    \n",
    "    _ = np.load(f'../Analysis/swim_power/{folder}_{fish}_swim_dat.npz')\n",
    "    r_swim = _['r_swim']\n",
    "    l_swim = _['l_swim']\n",
    "    task_period = _['swim_task_index'].astype('int')\n",
    "    visu = _['visu']\n",
    "    p_swim = np.sqrt(r_swim**2 + l_swim**2)\n",
    "    trial_valid_CL = (p_swim[:, t_swim_CL:t_swim_CL+150]>0).sum(axis=-1)==0\n",
    "    trial_valid_OL = ((visu.max(axis=-1, keepdims=True)-visu)[:, :-50]>0).sum(axis=-1)==0\n",
    "    trial_valid_VL = (p_swim[:, t_pre:t_pre+300]>0).sum(axis=-1)==0\n",
    "    \n",
    "    if np.percentile(p_swim[(task_period==1) & trial_valid].mean(axis=0), 95)>swim_power_thres:\n",
    "        continue\n",
    "        \n",
    "#     if ((task_period==2) &trial_valid & trial_valid_OL & trial_valid_CL).sum()<1:\n",
    "#         continue\n",
    "\n",
    "#     # print number of trials\n",
    "#     print(ind)\n",
    "#     for n in range(3):    \n",
    "#         print((trial_valid & (task_period==n+1)).sum())\n",
    "#     print('\\n')\n",
    "    for n_cell in range(sub_swim.shape[0]):\n",
    "        sub_list = sub_swim[n_cell]\n",
    "        # sub_list = sub_list - sub_list[:, 0:70].mean(axis=-1, keepdims=True) # (t_pre-30):t_pre\n",
    "        sub_list = sub_list - sub_list[:, (t_pre-30):t_pre].mean(axis=-1, keepdims=True)\n",
    "        spk_list = spk_swim[n_cell]\n",
    "        tmp = []\n",
    "        for n_spk in spk_list:\n",
    "            tmp.append(smooth(n_spk, k_))\n",
    "        spk_list = np.array(tmp)\n",
    "        \n",
    "        if is_plot:\n",
    "            fig, ax = plt.subplots(1, 2, figsize=(10, 3))\n",
    "            ax = ax.flatten()\n",
    "            \n",
    "        tmp1 = []\n",
    "        tmp2 = []\n",
    "        for n in range(3):\n",
    "            if n==0:\n",
    "                trial_valid_ = trial_valid & trial_valid_CL\n",
    "            if n==1:\n",
    "                trial_valid_ = trial_valid & trial_valid_OL  #& trial_valid_CL\n",
    "            if n==2:\n",
    "                trial_valid_ = trial_valid & trial_valid_VL\n",
    "            ave_ = sub_list[(task_period==n+1) & trial_valid_, :]*100\n",
    "            mean_ = np.mean(ave_, axis=0)\n",
    "            std_ = sem(ave_, axis=0, nan_policy='omit')\n",
    "            if is_plot:\n",
    "                ax[0].plot(t_label, mean_, f'-{c_list[n]}', lw=2)\n",
    "                ax[0].plot(t_label, mean_-std_, f'--{c_list[n]}', lw=0.5)\n",
    "                ax[0].plot(t_label, mean_+std_, f'--{c_list[n]}', lw=0.5)\n",
    "                ax[0].set_xlim([-t_pre/300, t_post/300])\n",
    "                ax[0].set_xlabel('Time (sec)')\n",
    "                ax[0].set_ylabel('dF/F')\n",
    "                sns.despine()\n",
    "            tmp1.append(mean_)\n",
    "            \n",
    "            ave_ = spk_list[(task_period==n+1) & trial_valid_, :]*300\n",
    "            mean_ = np.mean(ave_, axis=0)\n",
    "            std_ = sem(ave_, axis=0, nan_policy='omit')\n",
    "            if is_plot:\n",
    "                ax[1].plot(t_label, mean_, f'-{c_list[n]}', lw=2, label=labels[n])\n",
    "                ax[1].plot(t_label, mean_-std_, f'--{c_list[n]}', lw=0.5)\n",
    "                ax[1].plot(t_label, mean_+std_, f'--{c_list[n]}', lw=0.5)\n",
    "                ax[1].set_xlim([-t_pre/300, t_post/300])\n",
    "                ax[1].set_xlabel('Time (sec)')\n",
    "                ax[1].set_ylabel('Spikes')\n",
    "                sns.despine()\n",
    "                # ax[1].legend(bbox_to_anchor=(0, 1), loc='upper right', ncol=3)\n",
    "            tmp2.append(mean_)\n",
    "        sub_ave.append(np.array(tmp1))\n",
    "        spk_ave.append(np.array(tmp2))\n",
    "        \n",
    "        if is_plot:\n",
    "            plt.show()"
   ]
  },
  {
   "cell_type": "code",
   "execution_count": null,
   "metadata": {},
   "outputs": [],
   "source": [
    "sub_ave = np.array(sub_ave)\n",
    "spk_ave = np.array(spk_ave)\n",
    "print(f'number of cells {sub_ave.shape[0]}')"
   ]
  },
  {
   "cell_type": "code",
   "execution_count": null,
   "metadata": {},
   "outputs": [],
   "source": [
    "# from sklearn.linear_model import LinearRegression\n",
    "# reg = LinearRegression()\n",
    "# for n_cell in range(spk_ave.shape[0]):\n",
    "#     X = spk_ave[n_cell][1:]\n",
    "#     y = spk_ave[n_cell][0]\n",
    "#     reg.fit(X.T, y.T)\n",
    "#     y_ = reg.predict(X.T)\n",
    "#     print(reg.score(X.T, y.T))\n",
    "#     plt.plot(X[0], label='swim-only')\n",
    "#     plt.plot(X[1], label='visual-only')\n",
    "#     plt.plot(y, label='CL')\n",
    "#     plt.plot(y_, label='Linear model')\n",
    "#     plt.legend()\n",
    "#     plt.show()"
   ]
  },
  {
   "cell_type": "markdown",
   "metadata": {},
   "source": [
    "### Cell average"
   ]
  },
  {
   "cell_type": "code",
   "execution_count": null,
   "metadata": {},
   "outputs": [],
   "source": [
    "c_list = ['k', 'r', 'b']\n",
    "labels = ['CL', 'Swim-only', 'Visual-only']\n",
    "fig, ax = plt.subplots(1, 2, figsize=(12, 3))\n",
    "for n in range(3):\n",
    "    ave_ = sub_ave[:, n, :]\n",
    "    mean_ = np.mean(ave_, axis=0)\n",
    "    std_ = sem(ave_, axis=0, nan_policy='omit')\n",
    "    ax[0].plot(t_label, mean_, f'-{c_list[n]}', lw=2)\n",
    "    ax[0].plot(t_label, mean_-std_, f'--{c_list[n]}', lw=0.5)\n",
    "    ax[0].plot(t_label, mean_+std_, f'--{c_list[n]}', lw=0.5)\n",
    "    # ax[0].set_xlim([-t_pre/300, t_post/300])\n",
    "    ax[0].set_xlim([-0.2, 1])\n",
    "    ax[0].set_xlabel('Time (sec)')\n",
    "    ax[0].set_ylabel('dF/F')\n",
    "    sns.despine()\n",
    "\n",
    "    ave_ = spk_ave[:, n, :]\n",
    "    mean_ = np.mean(ave_, axis=0)\n",
    "    std_ = sem(ave_, axis=0, nan_policy='omit')\n",
    "    ax[1].plot(t_label, mean_, f'-{c_list[n]}', lw=2, label=labels[n])\n",
    "    ax[1].plot(t_label, mean_-std_, f'--{c_list[n]}', lw=0.5)\n",
    "    ax[1].plot(t_label, mean_+std_, f'--{c_list[n]}', lw=0.5)\n",
    "    # ax[1].set_xlim([-t_pre/300, t_post/300])\n",
    "    ax[1].set_xlim([-0.2, 1])\n",
    "    ax[1].set_xlabel('Time (sec)')\n",
    "    ax[1].set_ylabel('Spikes')\n",
    "    sns.despine()\n",
    "plt.show()"
   ]
  },
  {
   "cell_type": "code",
   "execution_count": null,
   "metadata": {},
   "outputs": [],
   "source": [
    "# plt.figure(figsize=(5, 30))\n",
    "# plt.plot(spk_ave[:, 2, :].T+np.arange(0, spk_ave.shape[0]*2, 2))\n",
    "# plt.show()"
   ]
  },
  {
   "cell_type": "code",
   "execution_count": null,
   "metadata": {},
   "outputs": [],
   "source": []
  },
  {
   "cell_type": "code",
   "execution_count": null,
   "metadata": {},
   "outputs": [],
   "source": []
  },
  {
   "cell_type": "code",
   "execution_count": null,
   "metadata": {},
   "outputs": [],
   "source": []
  }
 ],
 "metadata": {
  "kernelspec": {
   "display_name": "myenv",
   "language": "python",
   "name": "myenv"
  },
  "language_info": {
   "codemirror_mode": {
    "name": "ipython",
    "version": 3
   },
   "file_extension": ".py",
   "mimetype": "text/x-python",
   "name": "python",
   "nbconvert_exporter": "python",
   "pygments_lexer": "ipython3",
   "version": "3.6.8"
  }
 },
 "nbformat": 4,
 "nbformat_minor": 4
}
