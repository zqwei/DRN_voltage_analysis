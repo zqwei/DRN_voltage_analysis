{
 "cells": [
  {
   "cell_type": "code",
   "execution_count": 1,
   "metadata": {},
   "outputs": [],
   "source": [
    "import numpy as np\n",
    "from pathlib import Path\n",
    "import pandas as pd\n",
    "from sys import platform\n",
    "import os\n",
    "import matplotlib.pyplot as plt\n",
    "from utils import *\n",
    "from sub_act import sub_input, sub_process\n",
    "%matplotlib inline\n",
    "%load_ext autoreload\n",
    "%autoreload 2\n",
    "import seaborn as sns\n",
    "sns.set(style='ticks', font_scale=1.5)"
   ]
  },
  {
   "cell_type": "code",
   "execution_count": 2,
   "metadata": {},
   "outputs": [],
   "source": [
    "vol_file = Path('../Voltron_data/Voltron_Log_DRN_Exp.csv')\n",
    "dat_xls_file = pd.read_csv(vol_file, index_col=0)\n",
    "dat_xls_file['folder'] = dat_xls_file['folder'].apply(lambda x: f'{x:0>8}')\n",
    "# using Path to handle switches filesystems\n",
    "if platform == \"linux\" or platform == \"linux2\":\n",
    "    dir_folder = Path('/nrs/ahrens/Ziqiang/Takashi_DRN_project/ProcessedData/')\n",
    "elif platform == 'win32':\n",
    "    dir_folder = Path('U:\\\\Takashi') # put folder for windows system\n",
    "\n",
    "vol_file = Path('analysis_sections_based_on_swim_pattern.csv')\n",
    "dat_xls_file = pd.read_csv(vol_file, index_col=0)\n",
    "dat_xls_file['folder'] = dat_xls_file['folder'].apply(lambda x: f'{x:0>8}')"
   ]
  },
  {
   "cell_type": "code",
   "execution_count": 3,
   "metadata": {},
   "outputs": [],
   "source": [
    "row = dat_xls_file.iloc[0]"
   ]
  },
  {
   "cell_type": "code",
   "execution_count": 4,
   "metadata": {},
   "outputs": [],
   "source": [
    "folder = row['folder']\n",
    "fish = row['fish']\n",
    "dat_dir = dir_folder/f'{folder}/{fish}/Data/'"
   ]
  },
  {
   "cell_type": "code",
   "execution_count": 8,
   "metadata": {},
   "outputs": [],
   "source": [
    "_ = np.load(dat_dir/'Voltr_raw.npz')\n",
    "y_std = np.load(dat_dir/)\n",
    "A = _['A_']"
   ]
  },
  {
   "cell_type": "code",
   "execution_count": 9,
   "metadata": {},
   "outputs": [
    {
     "data": {
      "text/plain": [
       "(48640, 25)"
      ]
     },
     "execution_count": 9,
     "metadata": {},
     "output_type": "execute_result"
    }
   ],
   "source": [
    "A.shape"
   ]
  },
  {
   "cell_type": "code",
   "execution_count": null,
   "metadata": {},
   "outputs": [],
   "source": []
  },
  {
   "cell_type": "code",
   "execution_count": null,
   "metadata": {},
   "outputs": [],
   "source": []
  }
 ],
 "metadata": {
  "kernelspec": {
   "display_name": "Python (myenv)",
   "language": "python",
   "name": "myenv"
  },
  "language_info": {
   "codemirror_mode": {
    "name": "ipython",
    "version": 3
   },
   "file_extension": ".py",
   "mimetype": "text/x-python",
   "name": "python",
   "nbconvert_exporter": "python",
   "pygments_lexer": "ipython3",
   "version": "3.6.8"
  }
 },
 "nbformat": 4,
 "nbformat_minor": 2
}
