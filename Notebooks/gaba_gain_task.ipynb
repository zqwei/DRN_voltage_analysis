{
 "cells": [
  {
   "cell_type": "markdown",
   "metadata": {},
   "source": [
    "## Analysis for glutamate imaging"
   ]
  },
  {
   "cell_type": "code",
   "execution_count": 1,
   "metadata": {},
   "outputs": [],
   "source": [
    "import matplotlib\n",
    "import numpy as np\n",
    "import pandas as pd\n",
    "import os\n",
    "import matplotlib.pyplot as plt\n",
    "import seaborn as sns\n",
    "from utils import *\n",
    "from utils_swim import *\n",
    "from scipy.signal import medfilt\n",
    "from scipy.stats import sem, ranksums, spearmanr\n",
    "%matplotlib inline\n",
    "%load_ext autoreload\n",
    "%autoreload 2\n",
    "sns.set(font_scale=2, style='ticks')"
   ]
  },
  {
   "cell_type": "markdown",
   "metadata": {},
   "source": [
    "### Random Delay"
   ]
  },
  {
   "cell_type": "markdown",
   "metadata": {},
   "source": [
    "### processing swim data"
   ]
  },
  {
   "cell_type": "code",
   "execution_count": 2,
   "metadata": {},
   "outputs": [],
   "source": [
    "from pathlib import Path\n",
    "from skimage.io import imread\n",
    "from glob import glob"
   ]
  },
  {
   "cell_type": "code",
   "execution_count": 3,
   "metadata": {},
   "outputs": [
    {
     "name": "stderr",
     "output_type": "stream",
     "text": [
      "/groups/ahrens/home/weiz/Projects/DRN_voltage_analysis/Notebooks/utils_swim.py:96: RuntimeWarning: divide by zero encountered in true_divide\n",
      "  frame_swim_tcourse[0,fstart:fend]=swim_pow_sum/(fend-fstart)\n",
      "/groups/ahrens/home/weiz/Projects/DRN_voltage_analysis/Notebooks/utils_swim.py:97: RuntimeWarning: divide by zero encountered in true_divide\n",
      "  frame_swim_tcourse[1,fstart:fend]=swim_pow1/(fend-fstart)\n",
      "/groups/ahrens/home/weiz/Projects/DRN_voltage_analysis/Notebooks/utils_swim.py:98: RuntimeWarning: divide by zero encountered in true_divide\n",
      "  frame_swim_tcourse[2,fstart:fend]=swim_pow2/(fend-fstart)\n"
     ]
    }
   ],
   "source": [
    "rootDir = '/mnt/Dali/Takashi/Cezanne/SPIM_newPC/'\n",
    "folder = '04102019'\n",
    "fish = 'Fish1-4'\n",
    "dat_folder = '/nrs/ahrens/Ziqiang/Takashi_DRN_project/GABAData/'\n",
    "dir_folder = Path(dat_folder)\n",
    "swim(folder, fish, rootDir, dat_folder)\n",
    "trial_swim_power(folder, fish, dir_folder)\n",
    "frame_swim_power(folder, fish, dir_folder)\n",
    "frame_swim_power_series(folder, fish, dir_folder)"
   ]
  },
  {
   "cell_type": "markdown",
   "metadata": {},
   "source": [
    "### preprocessed dff data"
   ]
  },
  {
   "cell_type": "code",
   "execution_count": null,
   "metadata": {},
   "outputs": [],
   "source": [
    "# pamamters\n",
    "swm_dir = dat_folder+f'{folder}/{fish}/swim/'\n",
    "img_dir = rootDir+f'{folder}/{fish}/Registered'\n",
    "\n",
    "frame_rate = 30\n",
    "t_pre = 20\n",
    "t_post = 30 # 1 sec according to frame-rate\n",
    "t_flat = 15\n",
    "t_valid = 16\n",
    "\n",
    "# get valid swim data\n",
    "frame_stimParams = np.load(swm_dir+'frame_stimParams.npy', allow_pickle=True)[()];\n",
    "frame_swim_tcourse = np.load(swm_dir+\"frame_swim_tcourse_series.npy\", allow_pickle=True)[()];\n",
    "rawdata = np.load(swm_dir+\"rawdata.npy\", allow_pickle=True)[()]\n",
    "swimdata = np.load(swm_dir+\"swimdata.npy\", allow_pickle=True)[()]\n",
    "reclen=len(swimdata['fltCh1'])\n",
    "frame_tcourse=np.zeros((reclen,))\n",
    "frame=np.where(np.diff((rawdata['ch3']>3).astype('int'))==1)[0]\n",
    "for t in range(len(frame)-1):\n",
    "    frame_tcourse[frame[t]:frame[t+1]]=t\n",
    "swim_start = frame_tcourse[np.where(swimdata['swimStartT']>0)[0]].astype('int')\n",
    "swim_end = frame_tcourse[np.where(swimdata['swimEndT']>0)[0]].astype('int')\n",
    "# collect trial within t-pre, and t-post valid range\n",
    "swim_end   = swim_end[((swim_start>t_pre) & (swim_start<(frame_swim_tcourse.shape[1]-t_post)))]\n",
    "swim_start = swim_start[((swim_start>t_pre) & (swim_start<(frame_swim_tcourse.shape[1]-t_post)))]"
   ]
  },
  {
   "cell_type": "code",
   "execution_count": null,
   "metadata": {},
   "outputs": [],
   "source": [
    "# get dff data\n",
    "dFF = np.load(img_dir+'/dFF_sub.npy')[()]\n",
    "dim = dFF.shape\n",
    "dFF = dFF.reshape((dim[0],dim[1]*dim[2]),order='F') # dFF reshaped to t x pixels\n",
    "\n",
    "# remove pixels with low light intensity\n",
    "ave = np.load(img_dir+'/stack_sub.npy')[()]\n",
    "ave = ave.mean(axis=0)"
   ]
  },
  {
   "cell_type": "code",
   "execution_count": null,
   "metadata": {},
   "outputs": [],
   "source": [
    "plt.figure(figsize=(4, 10))\n",
    "plt.imshow(ave)\n",
    "plt.axis('off')\n",
    "plt.show()"
   ]
  },
  {
   "cell_type": "code",
   "execution_count": null,
   "metadata": {},
   "outputs": [],
   "source": []
  },
  {
   "cell_type": "code",
   "execution_count": null,
   "metadata": {},
   "outputs": [],
   "source": []
  },
  {
   "cell_type": "code",
   "execution_count": null,
   "metadata": {},
   "outputs": [],
   "source": [
    "mask_ = ave>150\n",
    "ave = ave.reshape((1,dim[1]*dim[2]),order='F')\n",
    "include_pix=np.where(ave>150)[1]\n",
    "dFF = dFF[:, include_pix]\n",
    "n_pix = dFF.shape[-1]"
   ]
  },
  {
   "cell_type": "code",
   "execution_count": null,
   "metadata": {},
   "outputs": [],
   "source": [
    "swim_list = []\n",
    "for ntype in range(3):\n",
    "    _ = swim_start[np.where(frame_stimParams[2,swim_start]==ntype+1)[0]]\n",
    "    valid = np.diff(_) > t_post\n",
    "    swim_list.append(_[:-1][valid])\n",
    "\n",
    "dff_list = []\n",
    "pswim_list = []\n",
    "vis_list = []\n",
    "num_swim_list = []\n",
    "t_len = int(t_pre+t_post)\n",
    "for nswim in swim_list:\n",
    "    num_swim = len(nswim)\n",
    "    num_swim_list.append(num_swim)\n",
    "    dff_ = np.zeros((num_swim, t_len, n_pix))\n",
    "    pswim_ = np.zeros((num_swim, t_len))\n",
    "    vis_ = np.zeros((num_swim, t_len))\n",
    "    for ns, s in enumerate(nswim):\n",
    "        l_swim = frame_swim_tcourse[1,(s-t_pre):(s+t_post)]\n",
    "        r_swim = frame_swim_tcourse[2,(s-t_pre):(s+t_post)]\n",
    "        pswim_[ns] = np.sqrt(l_swim**2 + r_swim**2)*100000 # TK: 10000\n",
    "        dff_[ns] = dFF[(s-t_pre):(s+t_post), :] - dFF[(s-t_flat):s, :].mean(axis=0, keepdims=True)\n",
    "        vis_[ns] = -frame_stimParams[0,(s-t_pre):(s+t_post)]*10000\n",
    "    valid_ = np.ones(pswim_.shape[0]).astype('bool')\n",
    "    valid_ = pswim_[:, -t_valid:].sum(axis=-1)==0\n",
    "    # valid_ = valid_ & (pswim_.max(axis=-1)<2)\n",
    "    valid_ = valid_ & (pswim_[:, :t_pre].sum(axis=-1)==0)\n",
    "    dff_list.append(dff_[valid_])\n",
    "    pswim_list.append(pswim_[valid_])\n",
    "    vis_list.append(vis_[valid_])\n",
    "\n",
    "fig, ax = plt.subplots(1, 3, figsize=(10, 3))\n",
    "ax = ax.flatten()\n",
    "color_list = ['k', 'r', 'b']\n",
    "for n in range(2):\n",
    "    ax[0].plot(np.arange(-t_pre, t_post)/frame_rate, pswim_list[n].mean(axis=0), color_list[n])\n",
    "    ax[1].plot(np.arange(-t_pre, t_post)/frame_rate, vis_list[n].mean(axis=0), color_list[n])\n",
    "    ax[2].plot(np.arange(-t_pre, t_post)/frame_rate, dff_list[n].mean(axis=0).mean(axis=-1)*100, color_list[n])\n",
    "    sns.despine()\n",
    "ax[0].set_xlim([-0.2, 1.0])\n",
    "ax[1].set_xlim([-0.2, 1.0])\n",
    "ax[2].set_xlim([-0.2, 1.0])\n",
    "plt.savefig('../Plots/gaba/example_fish.svg')"
   ]
  },
  {
   "cell_type": "code",
   "execution_count": null,
   "metadata": {},
   "outputs": [],
   "source": [
    "tmp1 = []\n",
    "tmp2 = []\n",
    "plt.figure(figsize=(4, 3))\n",
    "for n in range(2):\n",
    "    ave_dff = dff_list[n].mean(axis=-1)*100\n",
    "    v_ = -(vis_list[n][:, :].min(axis=-1))\n",
    "    d_ = ave_dff[:, t_pre+0:t_pre+6].mean(axis=-1)\n",
    "    tmp1.append(v_)\n",
    "    tmp2.append(d_)\n",
    "    plt.scatter(v_, d_, c=color_list[n], label=f'Gain #{n}', alpha=0.8)\n",
    "    print(spearmanr(v_, d_))\n",
    "plt.xlabel('Backward grating vel')\n",
    "plt.ylabel('dF/F')\n",
    "plt.xticks(np.arange(2, 8, 2))\n",
    "# plt.legend()\n",
    "sns.despine()\n",
    "plt.savefig('../Plots/gaba/example_fish_vel_act.svg')\n",
    "spearmanr(np.concatenate(tmp1), np.concatenate(tmp2))"
   ]
  },
  {
   "cell_type": "code",
   "execution_count": null,
   "metadata": {},
   "outputs": [],
   "source": [
    "tmp1 = []\n",
    "tmp2 = []\n",
    "plt.figure(figsize=(4, 3))\n",
    "for n in range(2):\n",
    "    ave_dff = dff_list[n].mean(axis=-1)*100\n",
    "    p_ = pswim_list[n][:, :].max(axis=-1)\n",
    "    d_ = ave_dff[:, t_pre+0:t_pre+6].mean(axis=-1)\n",
    "    tmp1.append(p_)\n",
    "    tmp2.append(d_)\n",
    "    plt.scatter(p_, d_, c=color_list[n], label=f'Gain #{n}', alpha=0.8)\n",
    "plt.xlabel('Swim power')\n",
    "plt.ylabel('dF/F')\n",
    "plt.xlim([0, 80])\n",
    "# plt.legend()\n",
    "sns.despine()\n",
    "plt.savefig('../Plots/gaba/example_fish_power_act.svg')\n",
    "spearmanr(np.concatenate(tmp1), np.concatenate(tmp2))"
   ]
  },
  {
   "cell_type": "code",
   "execution_count": null,
   "metadata": {},
   "outputs": [],
   "source": []
  }
 ],
 "metadata": {
  "kernelspec": {
   "display_name": "myenv",
   "language": "python",
   "name": "myenv"
  },
  "language_info": {
   "codemirror_mode": {
    "name": "ipython",
    "version": 3
   },
   "file_extension": ".py",
   "mimetype": "text/x-python",
   "name": "python",
   "nbconvert_exporter": "python",
   "pygments_lexer": "ipython3",
   "version": "3.7.3"
  }
 },
 "nbformat": 4,
 "nbformat_minor": 4
}
