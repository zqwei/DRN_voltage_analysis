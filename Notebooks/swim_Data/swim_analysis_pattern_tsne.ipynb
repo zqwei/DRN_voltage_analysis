{
 "cells": [
  {
   "cell_type": "code",
   "execution_count": null,
   "metadata": {},
   "outputs": [],
   "source": [
    "p, res, _, _, _ = np.polyfit(ave_swim_len, tot_swim_power, 1, full=True)"
   ]
  },
  {
   "cell_type": "code",
   "execution_count": null,
   "metadata": {},
   "outputs": [],
   "source": [
    "plt.hist(ave_swim[ave_swim>0].ravel(), bins=100)\n",
    "plt.show()"
   ]
  },
  {
   "cell_type": "code",
   "execution_count": null,
   "metadata": {},
   "outputs": [],
   "source": [
    "plt.plot(frame_swim_tcourse.T)"
   ]
  },
  {
   "cell_type": "code",
   "execution_count": null,
   "metadata": {},
   "outputs": [],
   "source": [
    "row = dat_xls_file.iloc[56]\n",
    "folder = row['folder']\n",
    "fish = row['fish']\n",
    "dat_dir = dir_folder/f'{folder}/{fish}/Data/'\n",
    "swim_dir = dir_folder/f'{folder}/{fish}/swim/'\n",
    "frame_stimParams = np.load(swim_dir/'frame_stimParams.npy')\n",
    "frame_swim_tcourse = np.load(swim_dir/'frame_swim_tcourse.npy')\n",
    "swim_starts = np.where(np.diff((frame_swim_tcourse[0,:]>0).astype('int'))==1)[0]\n",
    "swim_ends   = np.where(np.diff((frame_swim_tcourse[0,:]>0).astype('int'))==-1)[0]\n",
    "swim_ends   = swim_ends[((swim_starts>50) & (swim_starts<(frame_swim_tcourse.shape[1]-250)))]\n",
    "swim_starts = swim_starts[((swim_starts>50) & (swim_starts<(frame_swim_tcourse.shape[1]-250)))]\n",
    "task_period = frame_stimParams[2,swim_starts]\n",
    "task_index   = frame_stimParams[2,:]+(frame_stimParams[3,:]-1)*4+(frame_stimParams[4,:]-1)*12;\n",
    "swim_task_index =  task_index[swim_starts]\n",
    "swim_count  = np.zeros((len(swim_starts),))\n",
    "\n",
    "ind_old=0\n",
    "for s in range(len(swim_starts)):\n",
    "    ind=swim_task_index[s]\n",
    "    if (ind>ind_old):\n",
    "        swim_count[s]=1\n",
    "        ind_old=ind\n",
    "    elif (ind==ind_old):\n",
    "        swim_count[s]=swim_count[s-1]+1\n",
    "\n",
    "## mean swim ptterns\n",
    "\n",
    "ave_swim=np.zeros((len(swim_starts),300))\n",
    "ave_visu=np.zeros((len(swim_starts),300))\n",
    "ave_swim_len = np.zeros(len(swim_starts))\n",
    "\n",
    "for i in range(len(swim_starts)):\n",
    "    swim_len = swim_ends[i] - swim_starts[i]\n",
    "    if swim_len>250:\n",
    "        swim_len = 250\n",
    "    ave_swim_len[i] = swim_len\n",
    "    ave_swim[i,:swim_len+50]=frame_swim_tcourse[2,(swim_starts[i]-50):(swim_starts[i]+swim_len)]*100000\n",
    "    ave_visu[i,:swim_len+50]=-frame_stimParams[0,(swim_starts[i]-50):(swim_starts[i]+swim_len)]*10000\n",
    "\n",
    "fig, ax = plt.subplots(1, 4, figsize=(16, 4))\n",
    "ax[0].plot(np.arange(-50,250)/300,ave_swim[task_period==1,:].T, '-k')\n",
    "if (task_period==2).sum()>0:\n",
    "    ax[0].plot(np.arange(-50,250)/300,ave_swim[task_period==2,:].T, '-r')\n",
    "ax[0].set_title('Swim power')\n",
    "ax[1].plot(np.arange(-50,250)/300,ave_visu[task_period==1,:].T, '-k')\n",
    "if (task_period==2).sum()>0:\n",
    "    ax[1].plot(np.arange(-50,250)/300,ave_visu[task_period==2,:].T, '-r') \n",
    "ax[1].set_title('Visual velocity')\n",
    "tot_swim_power = ave_swim[:,50:].sum(axis=1)\n",
    "ax[2].plot(ave_swim_len, tot_swim_power, 'o')\n",
    "ax[2].set_ylabel('Total swim power')\n",
    "ax[2].set_xlabel('Swim length')\n",
    "ax[2].set_title(row['task'])\n",
    "ax[3].imshow(ave_swim[:,50:200], vmax=60)\n",
    "plt.savefig(f'swim_power/{folder}_{fish}.png')"
   ]
  },
  {
   "cell_type": "code",
   "execution_count": null,
   "metadata": {},
   "outputs": [],
   "source": [
    "plt.plot(frame_swim_tcourse[4])"
   ]
  },
  {
   "cell_type": "code",
   "execution_count": null,
   "metadata": {},
   "outputs": [],
   "source": [
    "plt.plot(np.arange(-50,250)/300,ave_swim[:5,:].T)"
   ]
  },
  {
   "cell_type": "code",
   "execution_count": null,
   "metadata": {},
   "outputs": [],
   "source": [
    "frame_stimParams.shape"
   ]
  },
  {
   "cell_type": "code",
   "execution_count": null,
   "metadata": {},
   "outputs": [],
   "source": [
    "from sklearn.decomposition import NMF\n",
    "num_comp = 40\n",
    "swim_nmf = NMF(n_components=num_comp)\n",
    "swim_nmf.fit(ave_swim[:,50:200])\n",
    "swim_p_ = swim_nmf.fit_transform(ave_swim[:,50:200])\n",
    "swim_new = swim_nmf.inverse_transform(swim_p_)"
   ]
  },
  {
   "cell_type": "code",
   "execution_count": null,
   "metadata": {},
   "outputs": [],
   "source": [
    "err = np.linalg.norm(swim_new-ave_swim[:,50:200], ord='fro')\n",
    "var_ = np.linalg.norm(ave_swim[:,50:200] - ave_swim[:,50:200].mean(axis=0, keepdims=True), ord='fro')\n",
    "print(f'explained variance: {1-err/var_}')"
   ]
  },
  {
   "cell_type": "code",
   "execution_count": null,
   "metadata": {},
   "outputs": [],
   "source": [
    "plt.imshow(swim_p_, aspect='auto')\n",
    "plt.colorbar()\n",
    "plt.show()"
   ]
  },
  {
   "cell_type": "code",
   "execution_count": null,
   "metadata": {},
   "outputs": [],
   "source": [
    "plt.imshow(swim_p_, aspect='auto')\n",
    "plt.colorbar()"
   ]
  },
  {
   "cell_type": "code",
   "execution_count": null,
   "metadata": {},
   "outputs": [],
   "source": [
    "swim_nmf_proj = swim_nmf.components_"
   ]
  },
  {
   "cell_type": "code",
   "execution_count": null,
   "metadata": {},
   "outputs": [],
   "source": [
    "for n_c in range(num_comp):\n",
    "    plt.plot(swim_nmf_proj[n_c, :].T)\n",
    "    plt.show()"
   ]
  },
  {
   "cell_type": "code",
   "execution_count": null,
   "metadata": {},
   "outputs": [],
   "source": [
    "from sklearn import svm\n",
    "clf = svm.SVC(gamma='auto', decision_function_shape='ovo')\n",
    "clf.fit(swim_p_, task_period)"
   ]
  },
  {
   "cell_type": "code",
   "execution_count": null,
   "metadata": {},
   "outputs": [],
   "source": [
    "false_ind = np.where(~np.equal(clf.predict(swim_p_), task_period))[0]"
   ]
  },
  {
   "cell_type": "code",
   "execution_count": null,
   "metadata": {},
   "outputs": [],
   "source": [
    "print(clf.predict(swim_p_)[false_ind])\n",
    "print(task_period[false_ind])"
   ]
  },
  {
   "cell_type": "code",
   "execution_count": null,
   "metadata": {},
   "outputs": [],
   "source": []
  },
  {
   "cell_type": "code",
   "execution_count": null,
   "metadata": {},
   "outputs": [],
   "source": [
    "from scipy.stats import sem\n",
    "ind = np.equal(clf.predict(swim_p_), task_period) & (task_period == 1)\n",
    "mean_ = swim_new[ind, :].mean(axis=0)\n",
    "sem_ = sem(swim_new[ind, :],axis=0)\n",
    "plt.imshow(swim_new[ind, :],aspect=)\n",
    "plt.colorbar()\n",
    "plt.show()\n",
    "# plt.plot(mean_)\n",
    "# plt.plot(mean_+sem_)\n",
    "# plt.plot(mean_-sem_)\n",
    "# plt.show()"
   ]
  },
  {
   "cell_type": "code",
   "execution_count": null,
   "metadata": {},
   "outputs": [],
   "source": [
    "ind = np.equal(clf.predict(swim_p_), task_period) & (task_period == 1)\n",
    "plt.imshow(swim_p_[ind, :], aspect='auto')"
   ]
  },
  {
   "cell_type": "code",
   "execution_count": null,
   "metadata": {},
   "outputs": [],
   "source": [
    "ind = np.equal(clf.predict(swim_p_), task_period) & (task_period == 2)\n",
    "plt.imshow(swim_p_[ind, :], aspect='auto')"
   ]
  },
  {
   "cell_type": "code",
   "execution_count": null,
   "metadata": {},
   "outputs": [],
   "source": [
    "plt.hist(swim_p_[task_period == , 0])\n",
    "plt.show()"
   ]
  },
  {
   "cell_type": "code",
   "execution_count": null,
   "metadata": {},
   "outputs": [],
   "source": [
    "plt.hist(swim_p_[task_period == 1, 1])\n",
    "plt.show()"
   ]
  },
  {
   "cell_type": "code",
   "execution_count": null,
   "metadata": {},
   "outputs": [],
   "source": [
    "from scipy.stats import sem\n",
    "ind = np.equal(clf.predict(swim_p_), task_period) & (task_period == 2)\n",
    "mean_ = swim_new[ind, :].mean(axis=0)\n",
    "sem_ = sem(swim_new[ind, :],axis=0)\n",
    "plt.plot(mean_)\n",
    "plt.plot(mean_+sem_)\n",
    "plt.plot(mean_-sem_)\n",
    "plt.show()"
   ]
  },
  {
   "cell_type": "code",
   "execution_count": null,
   "metadata": {},
   "outputs": [],
   "source": [
    "from scipy.stats import sem\n",
    "ind = (~np.equal(clf.predict(swim_p_), task_period)) & (task_period == 1)\n",
    "mean_ = swim_new[ind, :].mean(axis=0)\n",
    "sem_ = sem(swim_new[ind, :],axis=0)\n",
    "plt.plot(mean_)\n",
    "plt.plot(mean_+sem_)\n",
    "plt.plot(mean_-sem_)\n",
    "plt.show()"
   ]
  },
  {
   "cell_type": "code",
   "execution_count": null,
   "metadata": {},
   "outputs": [],
   "source": []
  },
  {
   "cell_type": "code",
   "execution_count": null,
   "metadata": {},
   "outputs": [],
   "source": []
  },
  {
   "cell_type": "code",
   "execution_count": null,
   "metadata": {},
   "outputs": [],
   "source": []
  },
  {
   "cell_type": "code",
   "execution_count": null,
   "metadata": {},
   "outputs": [],
   "source": [
    "from sklearn.manifold import TSNE\n",
    "swim_tsne = TSNE(n_components=2)\n",
    "swim_tsne.fit(swim_new)\n",
    "swim_t = swim_tsne.fit_transform(swim_new)"
   ]
  },
  {
   "cell_type": "code",
   "execution_count": null,
   "metadata": {},
   "outputs": [],
   "source": [
    "plt.scatter(swim_p_[:, 0], swim_p_[:, 7], c=task_period, cmap=plt.cm.Set1)\n",
    "plt.colorbar()\n",
    "plt.show()"
   ]
  },
  {
   "cell_type": "code",
   "execution_count": null,
   "metadata": {},
   "outputs": [],
   "source": [
    "sns.distplot(swim_p_[task_period==1, 0], kde=False)\n",
    "sns.distplot(swim_p_[task_period==2, 0], kde=False)"
   ]
  },
  {
   "cell_type": "code",
   "execution_count": null,
   "metadata": {},
   "outputs": [],
   "source": []
  },
  {
   "cell_type": "code",
   "execution_count": null,
   "metadata": {},
   "outputs": [],
   "source": []
  },
  {
   "cell_type": "code",
   "execution_count": null,
   "metadata": {},
   "outputs": [],
   "source": []
  },
  {
   "cell_type": "code",
   "execution_count": null,
   "metadata": {},
   "outputs": [],
   "source": []
  }
 ],
 "metadata": {
  "kernelspec": {
   "display_name": "Python (myenv)",
   "language": "python",
   "name": "myenv"
  },
  "language_info": {
   "codemirror_mode": {
    "name": "ipython",
    "version": 3
   },
   "file_extension": ".py",
   "mimetype": "text/x-python",
   "name": "python",
   "nbconvert_exporter": "python",
   "pygments_lexer": "ipython3",
   "version": "3.6.6"
  }
 },
 "nbformat": 4,
 "nbformat_minor": 2
}
