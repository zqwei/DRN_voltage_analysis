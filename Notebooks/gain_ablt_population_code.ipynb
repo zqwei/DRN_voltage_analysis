{
 "cells": [
  {
   "cell_type": "code",
   "execution_count": 9,
   "metadata": {},
   "outputs": [
    {
     "name": "stdout",
     "output_type": "stream",
     "text": [
      "The autoreload extension is already loaded. To reload it, use:\n",
      "  %reload_ext autoreload\n"
     ]
    }
   ],
   "source": [
    "import numpy as np\n",
    "from pathlib import Path\n",
    "import pandas as pd\n",
    "from sys import platform\n",
    "import os\n",
    "import matplotlib.pyplot as plt\n",
    "%matplotlib inline\n",
    "%load_ext autoreload\n",
    "%autoreload 2\n",
    "import seaborn as sns\n",
    "sns.set(font_scale=2, style='ticks')\n",
    "# from activity_swim_bout import *\n",
    "from utils import cont_mode\n",
    "from sklearn.decomposition import PCA, TruncatedSVD\n",
    "from sklearn.discriminant_analysis import LinearDiscriminantAnalysis as LDA\n",
    "from utils import *\n",
    "from scipy.signal import find_peaks\n",
    "import warnings\n",
    "warnings.filterwarnings('ignore')\n",
    "from scipy.stats import sem"
   ]
  },
  {
   "cell_type": "code",
   "execution_count": 10,
   "metadata": {},
   "outputs": [],
   "source": [
    "dir_folder = '/nrs/ahrens/Ziqiang/Takashi_DRN_project/ProcessedData/'\n",
    "vol_file = Path('../Analysis/depreciated/analysis_sections_ablation_gain.csv')\n",
    "dat_xls_file = pd.read_csv(vol_file, index_col=0)\n",
    "dat_xls_file['folder'] = dat_xls_file['folder'].apply(lambda x: f'{x:0>8}')\n",
    "t_pre = 100 # time window pre-swim\n",
    "t_post = 350 # time window post-swim"
   ]
  },
  {
   "cell_type": "code",
   "execution_count": 11,
   "metadata": {},
   "outputs": [],
   "source": [
    "def search_paired_data(row, flist):\n",
    "    if 'before' not in row['fish']:\n",
    "        return False\n",
    "    fish = row['fish'][:-6]\n",
    "    for _, row_ in flist.iterrows():\n",
    "        if row_['folder'] != row['folder']:\n",
    "            continue\n",
    "        if row_['fish'] == fish+'after':\n",
    "            return True\n",
    "    return False"
   ]
  },
  {
   "cell_type": "markdown",
   "metadata": {},
   "source": [
    "## Gain adapation"
   ]
  },
  {
   "cell_type": "code",
   "execution_count": 12,
   "metadata": {},
   "outputs": [],
   "source": [
    "def gain_trace(row):\n",
    "    folder = row['folder']\n",
    "    fish = row['fish']    \n",
    "    _ = np.load(f'../Analysis/swim_power/{folder}_{fish}_swim_dat.npz')\n",
    "    swim_starts = _['swim_starts']\n",
    "    swim_ends = _['swim_ends']\n",
    "    r_swim = _['r_swim']\n",
    "    l_swim = _['l_swim']\n",
    "    visu = _['visu']\n",
    "    task_period = _['task_period']\n",
    "    swim_task_index = _['swim_task_index']\n",
    "    _ = np.load(f'../Analysis/swim_voltr/{folder}_{fish}_swim_voltr_ablt_dat.npz')\n",
    "    sub_swim = _['sub_swim']\n",
    "    spk_swim = _['spk_swim']\n",
    "    sub_list_ = spk_swim[:, :, t_pre:-60].mean(axis=-1).T\n",
    "    valid_trial = np.isnan(sub_list_.sum(axis=-1))\n",
    "    task_period[valid_trial] = np.inf\n",
    "    lda = LDA()\n",
    "    lda.fit(sub_list_[task_period<3, :], task_period[task_period<3])\n",
    "    lad_score = lda.score(sub_list_[task_period<3, :], task_period[task_period<3])\n",
    "    if lad_score<0.6:\n",
    "        return None, None, None, None\n",
    "    coef_ = lda.coef_\n",
    "    coef_ = coef_/np.linalg.norm(coef_)\n",
    "    \n",
    "    tmin = -1\n",
    "    tmax = 19\n",
    "    fish = fish[:-6]\n",
    "    \n",
    "    # ======================== before\n",
    "    dat_dir = dir_folder+f'{folder}/{fish}before/Data/'\n",
    "    swim_dir = dir_folder+f'{folder}/{fish}before/swim/'\n",
    "    dff = np.load(dat_dir+'Voltr_spikes.npz')['voltrs']\n",
    "    dff = dff - np.nanmedian(dff, axis=1, keepdims=True)\n",
    "    spk = np.load(dat_dir+'Voltr_spikes.npz')['spk']\n",
    "    num_cell = spk.shape[0]\n",
    "    spk = np.r_['-1', np.zeros((num_cell, 600)), spk]\n",
    "    frame_stimParams = np.load(swim_dir+'frame_stimParams.npy')\n",
    "    frame_swim_tcourse = np.load(swim_dir+'frame_swim_tcourse.npy')\n",
    "    \n",
    "    k_ = boxcarKernel(1201)\n",
    "    spk_smooth = spk.copy()\n",
    "    for ncell in range(spk_smooth.shape[0]):\n",
    "        spk_smooth[ncell] = smooth(spk[ncell], k_)*300\n",
    "    pop_act = spk_smooth.T.dot(coef_.T)\n",
    "    pop_act = pop_act.ravel()\n",
    "\n",
    "    n_task = task_period.max().astype('int')\n",
    "    swim_task_index_ = (swim_task_index-1)%n_task+1\n",
    "    swim_bout_index_task = np.zeros(len(swim_task_index_)).astype('int')\n",
    "    swim_bout_index_task[0] = 1\n",
    "    for n_bout in range(len(swim_task_index_)-1):\n",
    "        if swim_task_index_[n_bout] == swim_task_index_[n_bout-1]:\n",
    "            swim_bout_index_task[n_bout] = swim_bout_index_task[n_bout-1]+1\n",
    "        else:\n",
    "            swim_bout_index_task[n_bout] = 1       \n",
    "    low_on = np.where((frame_stimParams[2][:-1]==frame_stimParams[2].max()) & (frame_stimParams[2][1:]==1))[0]\n",
    "    lda_low = np.zeros((len(low_on), (tmax-tmin)*300))\n",
    "    lda_low[:] = np.nan\n",
    "    for n in range(len(low_on)-1):\n",
    "        next_list = np.where(frame_stimParams[2][low_on[n]+1:]!=1)[0]\n",
    "        if len(next_list)>0:\n",
    "            tmax_ = min([next_list[0], tmax*300])\n",
    "            lda_low[n, :tmax_-tmin*300] = pop_act[low_on[n]+tmin*300:low_on[n]+tmax_]\n",
    "\n",
    "    high_on = np.where((frame_stimParams[2][:-1]==1) & (frame_stimParams[2][1:]==2))[0]\n",
    "    lda_high = np.zeros((len(high_on), (tmax-tmin)*300))\n",
    "    lda_high[:] = np.nan\n",
    "    for n in range(len(high_on)):\n",
    "        next_list = np.where(frame_stimParams[2][high_on[n]+1:]!=2)[0]\n",
    "        if len(next_list)>0:\n",
    "            tmax_ = min([next_list[0], tmax*300])\n",
    "            lda_high[n, :tmax_-tmin*300] = pop_act[high_on[n]+tmin*300:high_on[n]+tmax_]\n",
    "    \n",
    "    # ======================== after\n",
    "    dat_dir = dir_folder+f'{folder}/{fish}after/Data/'\n",
    "    swim_dir = dir_folder+f'{folder}/{fish}after/swim/'\n",
    "    dff = np.load(dat_dir+'Voltr_spikes.npz')['voltrs']\n",
    "    dff = dff - np.nanmedian(dff, axis=1, keepdims=True)\n",
    "    spk = np.load(dat_dir+'Voltr_spikes.npz')['spk']\n",
    "    num_cell = spk.shape[0]\n",
    "    spk = np.r_['-1', np.zeros((num_cell, 600)), spk]\n",
    "    frame_stimParams = np.load(swim_dir+'frame_stimParams.npy')\n",
    "    frame_swim_tcourse = np.load(swim_dir+'frame_swim_tcourse.npy')\n",
    "    \n",
    "    k_ = boxcarKernel(1201)\n",
    "    spk_smooth = spk.copy()\n",
    "    for ncell in range(spk_smooth.shape[0]):\n",
    "        spk_smooth[ncell] = smooth(spk[ncell], k_)*300\n",
    "    pop_act = spk_smooth.T.dot(coef_.T)\n",
    "    pop_act = pop_act.ravel()\n",
    "\n",
    "    n_task = task_period.max().astype('int')\n",
    "    swim_task_index_ = (swim_task_index-1)%n_task+1\n",
    "    swim_bout_index_task = np.zeros(len(swim_task_index_)).astype('int')\n",
    "    swim_bout_index_task[0] = 1\n",
    "    for n_bout in range(len(swim_task_index_)-1):\n",
    "        if swim_task_index_[n_bout] == swim_task_index_[n_bout-1]:\n",
    "            swim_bout_index_task[n_bout] = swim_bout_index_task[n_bout-1]+1\n",
    "        else:\n",
    "            swim_bout_index_task[n_bout] = 1       \n",
    "    low_on = np.where((frame_stimParams[2][:-1]==frame_stimParams[2].max()) & (frame_stimParams[2][1:]==1))[0]\n",
    "    lda_low_ = np.zeros((len(low_on), (tmax-tmin)*300))\n",
    "    lda_low_[:] = np.nan\n",
    "    for n in range(len(low_on)-1):\n",
    "        next_list = np.where(frame_stimParams[2][low_on[n]+1:]!=1)[0]\n",
    "        if len(next_list)>0:\n",
    "            tmax_ = min([next_list[0], tmax*300])\n",
    "            lda_low_[n, :tmax_-tmin*300] = pop_act[low_on[n]+tmin*300:low_on[n]+tmax_]\n",
    "\n",
    "    high_on = np.where((frame_stimParams[2][:-1]==1) & (frame_stimParams[2][1:]==2))[0]\n",
    "    lda_high_ = np.zeros((len(high_on), (tmax-tmin)*300))\n",
    "    lda_high_[:] = np.nan\n",
    "    for n in range(len(high_on)):\n",
    "        next_list = np.where(frame_stimParams[2][high_on[n]+1:]!=2)[0]\n",
    "        if len(next_list)>0:\n",
    "            tmax_ = min([next_list[0], tmax*300])\n",
    "            lda_high_[n, :tmax_-tmin*300] = pop_act[high_on[n]+tmin*300:high_on[n]+tmax_]\n",
    "            \n",
    "    return np.nanmean(lda_low, axis=0), np.nanmean(lda_high, axis=0), np.nanmean(lda_low_, axis=0), np.nanmean(lda_high_, axis=0)"
   ]
  },
  {
   "cell_type": "code",
   "execution_count": 13,
   "metadata": {},
   "outputs": [],
   "source": [
    "low_list = []\n",
    "high_list = []\n",
    "low_list_ = []\n",
    "high_list_ = []\n",
    "fish_id = []\n",
    "for _, row in dat_xls_file.iterrows():\n",
    "    if 'control' in row['task']:\n",
    "        continue  \n",
    "    if search_paired_data(row, dat_xls_file):\n",
    "        try:\n",
    "            ave_low, ave_high, ave_low_, ave_high_ = gain_trace(row)\n",
    "            if ave_low is None:\n",
    "                continue\n",
    "            low_list.append(ave_low)\n",
    "            high_list.append(ave_high)\n",
    "            low_list_.append(ave_low_)\n",
    "            high_list_.append(ave_high_)\n",
    "            fish_id.append(row['folder']+row['fish'])\n",
    "        except:\n",
    "            pass"
   ]
  },
  {
   "cell_type": "code",
   "execution_count": 14,
   "metadata": {},
   "outputs": [],
   "source": [
    "lda_low = np.array(low_list)\n",
    "lda_high = np.array(high_list)\n",
    "valid = (lda_high - lda_low)[:, :-200].mean(axis=-1)>0.2\n",
    "lda_low_ = np.array(low_list_)\n",
    "lda_high_ = np.array(high_list_)"
   ]
  },
  {
   "cell_type": "code",
   "execution_count": 15,
   "metadata": {},
   "outputs": [
    {
     "data": {
      "image/png": "[encoded data removed]",
      "text/plain": [
       "<Figure size 288x216 with 1 Axes>"
      ]
     },
     "metadata": {},
     "output_type": "display_data"
    }
   ],
   "source": [
    "# lda_low = lda_low/lda_high.max(axis=-1, keepdims=True)\n",
    "# lda_high = lda_high/lda_high.max(axis=-1, keepdims=True)\n",
    "plt.figure(figsize=(4, 3))\n",
    "tmin=-1\n",
    "tmax=19\n",
    "\n",
    "# ave_ = np.percentile(lda_low, 90, axis=0)\n",
    "ave_ = np.mean(lda_low[valid], axis=0)\n",
    "sem_ = sem(lda_low[valid], axis=0)/3\n",
    "# plt.plot(np.arange(tmin, tmax, 1/300), lda_low.T, '-k', lw=0.5, label='low gain')\n",
    "# plt.plot(np.arange(tmin, tmax, 1/300), ave_, '-k', lw=2, label='low gain')\n",
    "# plt.plot(np.arange(tmin, tmax, 1/300), ave_+sem_, '--k', lw=0.5)\n",
    "# plt.plot(np.arange(tmin, tmax, 1/300), ave_-sem_, '--k', lw=0.5)\n",
    "shaded_errorbar(np.arange(tmin, tmax, 1/300), ave_, sem_, color='k')\n",
    "\n",
    "\n",
    "# ave_ = np.percentile(lda_high, 90, axis=0)\n",
    "ave_ = np.mean(lda_high[valid], axis=0)\n",
    "sem_ = sem(lda_high[valid], axis=0)/3\n",
    "# plt.plot(np.arange(tmin, tmax, 1/300), lda_high.T, '-r', lw=0.5, label='high gain')\n",
    "# plt.plot(np.arange(tmin, tmax, 1/300), ave_, '-r', lw=2, label='high gain')\n",
    "# plt.plot(np.arange(tmin, tmax, 1/300), ave_+sem_, '--r', lw=0.5)\n",
    "# plt.plot(np.arange(tmin, tmax, 1/300), ave_-sem_, '--r', lw=0.5)\n",
    "shaded_errorbar(np.arange(tmin, tmax, 1/300), ave_, sem_, color='r')\n",
    "\n",
    "\n",
    "# ave_ = np.percentile(lda_low, 90, axis=0)\n",
    "ave_ = np.mean(lda_low_[valid], axis=0)\n",
    "sem_ = sem(lda_low_[valid], axis=0)/3\n",
    "# plt.plot(np.arange(tmin, tmax, 1/300), lda_low.T, '-k', lw=0.5, label='low gain')\n",
    "# plt.plot(np.arange(tmin, tmax, 1/300), ave_, '-', color='darkgray', lw=2, label='low gain')\n",
    "# plt.plot(np.arange(tmin, tmax, 1/300), ave_+sem_, '--k', lw=0.5)\n",
    "# plt.plot(np.arange(tmin, tmax, 1/300), ave_-sem_, '--k', lw=0.5)\n",
    "shaded_errorbar(np.arange(tmin, tmax, 1/300), ave_, sem_, color='darkgray')\n",
    "\n",
    "# ave_ = np.percentile(lda_high, 90, axis=0)\n",
    "ave_ = np.mean(lda_high_[valid], axis=0)\n",
    "sem_ = sem(lda_high_[valid], axis=0)/3\n",
    "# plt.plot(np.arange(tmin, tmax, 1/300), lda_high.T, '-r', lw=0.5, label='high gain')\n",
    "# plt.plot(np.arange(tmin, tmax, 1/300), ave_, '-', color='salmon', lw=2, label='high gain')\n",
    "# plt.plot(np.arange(tmin, tmax, 1/300), ave_+sem_, '--r', lw=0.5)\n",
    "# plt.plot(np.arange(tmin, tmax, 1/300), ave_-sem_, '--r', lw=0.5)\n",
    "shaded_errorbar(np.arange(tmin, tmax, 1/300), ave_, sem_, color='salmon')\n",
    "plt.xlim([-0.25, tmax-0.5])   \n",
    "plt.ylim([0, 1.0])\n",
    "plt.xlabel('Time from epoch onset')\n",
    "plt.yticks(np.arange(0, 1.5, .5))\n",
    "plt.xticks(np.arange(0, 20, 5))\n",
    "plt.ylabel('Neural act.')\n",
    "sns.despine()\n",
    "plt.savefig('../Plots/population/gain_adaptation_ablt_se.pdf')"
   ]
  },
  {
   "cell_type": "code",
   "execution_count": 16,
   "metadata": {},
   "outputs": [
    {
     "data": {
      "text/plain": [
       "20"
      ]
     },
     "execution_count": 16,
     "metadata": {},
     "output_type": "execute_result"
    }
   ],
   "source": [
    "len(fish_id)"
   ]
  },
  {
   "cell_type": "code",
   "execution_count": null,
   "metadata": {},
   "outputs": [],
   "source": []
  }
 ],
 "metadata": {
  "kernelspec": {
   "display_name": "myenv",
   "language": "python",
   "name": "myenv"
  },
  "language_info": {
   "codemirror_mode": {
    "name": "ipython",
    "version": 3
   },
   "file_extension": ".py",
   "mimetype": "text/x-python",
   "name": "python",
   "nbconvert_exporter": "python",
   "pygments_lexer": "ipython3",
   "version": "3.7.6"
  }
 },
 "nbformat": 4,
 "nbformat_minor": 4
}
